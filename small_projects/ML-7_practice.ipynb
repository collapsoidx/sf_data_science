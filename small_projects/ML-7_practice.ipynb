{
 "cells": [
  {
   "cell_type": "code",
   "execution_count": 12,
   "metadata": {},
   "outputs": [],
   "source": [
    "import numpy as np \n",
    "import pandas as pd \n",
    "import matplotlib.pyplot as plt \n",
    "import seaborn as sns \n",
    "\n",
    "from sklearn import linear_model \n",
    "from sklearn import tree\n",
    "from sklearn import ensemble\n",
    "from sklearn import metrics\n",
    "from sklearn import preprocessing\n",
    "from sklearn.model_selection import train_test_split\n",
    "from sklearn.model_selection import GridSearchCV\n",
    "from sklearn.model_selection import RandomizedSearchCV\n",
    "\n",
    "from sklearn.model_selection import cross_val_score\n",
    "import hyperopt\n",
    "from hyperopt import hp, fmin, tpe, Trials\n",
    "\n",
    "import optuna\n",
    "\n",
    "%matplotlib inline\n",
    "plt.style.use('seaborn')\n",
    "\n",
    "import warnings\n",
    "warnings.filterwarnings('ignore')"
   ]
  },
  {
   "cell_type": "code",
   "execution_count": 13,
   "metadata": {},
   "outputs": [
    {
     "data": {
      "text/html": [
       "<div>\n",
       "<style scoped>\n",
       "    .dataframe tbody tr th:only-of-type {\n",
       "        vertical-align: middle;\n",
       "    }\n",
       "\n",
       "    .dataframe tbody tr th {\n",
       "        vertical-align: top;\n",
       "    }\n",
       "\n",
       "    .dataframe thead th {\n",
       "        text-align: right;\n",
       "    }\n",
       "</style>\n",
       "<table border=\"1\" class=\"dataframe\">\n",
       "  <thead>\n",
       "    <tr style=\"text-align: right;\">\n",
       "      <th></th>\n",
       "      <th>Activity</th>\n",
       "      <th>D1</th>\n",
       "      <th>D2</th>\n",
       "      <th>D3</th>\n",
       "      <th>D4</th>\n",
       "      <th>D5</th>\n",
       "      <th>D6</th>\n",
       "      <th>D7</th>\n",
       "      <th>D8</th>\n",
       "      <th>D9</th>\n",
       "      <th>...</th>\n",
       "      <th>D1767</th>\n",
       "      <th>D1768</th>\n",
       "      <th>D1769</th>\n",
       "      <th>D1770</th>\n",
       "      <th>D1771</th>\n",
       "      <th>D1772</th>\n",
       "      <th>D1773</th>\n",
       "      <th>D1774</th>\n",
       "      <th>D1775</th>\n",
       "      <th>D1776</th>\n",
       "    </tr>\n",
       "  </thead>\n",
       "  <tbody>\n",
       "    <tr>\n",
       "      <th>0</th>\n",
       "      <td>1</td>\n",
       "      <td>0.000000</td>\n",
       "      <td>0.497009</td>\n",
       "      <td>0.10</td>\n",
       "      <td>0.0</td>\n",
       "      <td>0.132956</td>\n",
       "      <td>0.678031</td>\n",
       "      <td>0.273166</td>\n",
       "      <td>0.585445</td>\n",
       "      <td>0.743663</td>\n",
       "      <td>...</td>\n",
       "      <td>0</td>\n",
       "      <td>0</td>\n",
       "      <td>0</td>\n",
       "      <td>0</td>\n",
       "      <td>0</td>\n",
       "      <td>0</td>\n",
       "      <td>0</td>\n",
       "      <td>0</td>\n",
       "      <td>0</td>\n",
       "      <td>0</td>\n",
       "    </tr>\n",
       "    <tr>\n",
       "      <th>1</th>\n",
       "      <td>1</td>\n",
       "      <td>0.366667</td>\n",
       "      <td>0.606291</td>\n",
       "      <td>0.05</td>\n",
       "      <td>0.0</td>\n",
       "      <td>0.111209</td>\n",
       "      <td>0.803455</td>\n",
       "      <td>0.106105</td>\n",
       "      <td>0.411754</td>\n",
       "      <td>0.836582</td>\n",
       "      <td>...</td>\n",
       "      <td>1</td>\n",
       "      <td>1</td>\n",
       "      <td>1</td>\n",
       "      <td>1</td>\n",
       "      <td>0</td>\n",
       "      <td>1</td>\n",
       "      <td>0</td>\n",
       "      <td>0</td>\n",
       "      <td>1</td>\n",
       "      <td>0</td>\n",
       "    </tr>\n",
       "    <tr>\n",
       "      <th>2</th>\n",
       "      <td>1</td>\n",
       "      <td>0.033300</td>\n",
       "      <td>0.480124</td>\n",
       "      <td>0.00</td>\n",
       "      <td>0.0</td>\n",
       "      <td>0.209791</td>\n",
       "      <td>0.610350</td>\n",
       "      <td>0.356453</td>\n",
       "      <td>0.517720</td>\n",
       "      <td>0.679051</td>\n",
       "      <td>...</td>\n",
       "      <td>0</td>\n",
       "      <td>0</td>\n",
       "      <td>0</td>\n",
       "      <td>0</td>\n",
       "      <td>0</td>\n",
       "      <td>0</td>\n",
       "      <td>0</td>\n",
       "      <td>0</td>\n",
       "      <td>0</td>\n",
       "      <td>0</td>\n",
       "    </tr>\n",
       "    <tr>\n",
       "      <th>3</th>\n",
       "      <td>1</td>\n",
       "      <td>0.000000</td>\n",
       "      <td>0.538825</td>\n",
       "      <td>0.00</td>\n",
       "      <td>0.5</td>\n",
       "      <td>0.196344</td>\n",
       "      <td>0.724230</td>\n",
       "      <td>0.235606</td>\n",
       "      <td>0.288764</td>\n",
       "      <td>0.805110</td>\n",
       "      <td>...</td>\n",
       "      <td>0</td>\n",
       "      <td>0</td>\n",
       "      <td>0</td>\n",
       "      <td>0</td>\n",
       "      <td>0</td>\n",
       "      <td>0</td>\n",
       "      <td>0</td>\n",
       "      <td>0</td>\n",
       "      <td>0</td>\n",
       "      <td>0</td>\n",
       "    </tr>\n",
       "    <tr>\n",
       "      <th>4</th>\n",
       "      <td>0</td>\n",
       "      <td>0.100000</td>\n",
       "      <td>0.517794</td>\n",
       "      <td>0.00</td>\n",
       "      <td>0.0</td>\n",
       "      <td>0.494734</td>\n",
       "      <td>0.781422</td>\n",
       "      <td>0.154361</td>\n",
       "      <td>0.303809</td>\n",
       "      <td>0.812646</td>\n",
       "      <td>...</td>\n",
       "      <td>0</td>\n",
       "      <td>0</td>\n",
       "      <td>0</td>\n",
       "      <td>0</td>\n",
       "      <td>0</td>\n",
       "      <td>0</td>\n",
       "      <td>0</td>\n",
       "      <td>0</td>\n",
       "      <td>0</td>\n",
       "      <td>0</td>\n",
       "    </tr>\n",
       "  </tbody>\n",
       "</table>\n",
       "<p>5 rows × 1777 columns</p>\n",
       "</div>"
      ],
      "text/plain": [
       "   Activity        D1        D2    D3   D4        D5        D6        D7  \\\n",
       "0         1  0.000000  0.497009  0.10  0.0  0.132956  0.678031  0.273166   \n",
       "1         1  0.366667  0.606291  0.05  0.0  0.111209  0.803455  0.106105   \n",
       "2         1  0.033300  0.480124  0.00  0.0  0.209791  0.610350  0.356453   \n",
       "3         1  0.000000  0.538825  0.00  0.5  0.196344  0.724230  0.235606   \n",
       "4         0  0.100000  0.517794  0.00  0.0  0.494734  0.781422  0.154361   \n",
       "\n",
       "         D8        D9  ...  D1767  D1768  D1769  D1770  D1771  D1772  D1773  \\\n",
       "0  0.585445  0.743663  ...      0      0      0      0      0      0      0   \n",
       "1  0.411754  0.836582  ...      1      1      1      1      0      1      0   \n",
       "2  0.517720  0.679051  ...      0      0      0      0      0      0      0   \n",
       "3  0.288764  0.805110  ...      0      0      0      0      0      0      0   \n",
       "4  0.303809  0.812646  ...      0      0      0      0      0      0      0   \n",
       "\n",
       "   D1774  D1775  D1776  \n",
       "0      0      0      0  \n",
       "1      0      1      0  \n",
       "2      0      0      0  \n",
       "3      0      0      0  \n",
       "4      0      0      0  \n",
       "\n",
       "[5 rows x 1777 columns]"
      ]
     },
     "execution_count": 13,
     "metadata": {},
     "output_type": "execute_result"
    }
   ],
   "source": [
    "data = pd.read_csv('_train_sem09 (1).csv')\n",
    "data.head()"
   ]
  },
  {
   "cell_type": "code",
   "execution_count": 14,
   "metadata": {},
   "outputs": [],
   "source": [
    "TARGET = 'Activity'\n",
    "\n",
    "X = data.drop(TARGET, axis=1)\n",
    "y = data[TARGET]"
   ]
  },
  {
   "cell_type": "code",
   "execution_count": 15,
   "metadata": {},
   "outputs": [],
   "source": [
    "X_train, X_test, y_train, y_test = train_test_split(X, y, stratify=y, random_state = 42, test_size = 0.2)"
   ]
  },
  {
   "cell_type": "code",
   "execution_count": 16,
   "metadata": {},
   "outputs": [],
   "source": [
    "scaler = preprocessing.MinMaxScaler()\n",
    "scaler.fit(X_train)\n",
    "X_train_scaled = scaler.transform(X_train)\n",
    "X_test_scaled = scaler.transform(X_test)\n"
   ]
  },
  {
   "cell_type": "code",
   "execution_count": 17,
   "metadata": {},
   "outputs": [
    {
     "name": "stdout",
     "output_type": "stream",
     "text": [
      "f1_score for Train with DecisionTreeClassifier: 0.90\n",
      "f1_score for Train with LogisticRegression: 0.78\n"
     ]
    }
   ],
   "source": [
    "log_reg = linear_model.LogisticRegression(max_iter = 1000, random_state=42)\n",
    "log_reg.fit(X_train_scaled, y_train)\n",
    "\n",
    "y_train_pred = log_reg.predict(X_train_scaled)\n",
    "y_test_pred = log_reg.predict(X_test_scaled)\n",
    "\n",
    "print('f1_score for Train with DecisionTreeClassifier: {:.2f}'.format(metrics.f1_score(y_train, y_train_pred)))\n",
    "print('f1_score for Train with LogisticRegression: {:.2f}'.format(metrics.f1_score(y_test, y_test_pred)))"
   ]
  },
  {
   "cell_type": "code",
   "execution_count": 18,
   "metadata": {},
   "outputs": [
    {
     "name": "stdout",
     "output_type": "stream",
     "text": [
      "f1_score for Train with RandomForestClassifier: 1.00\n",
      "f1_score for Test with RandomForestClassifier: 0.80\n"
     ]
    }
   ],
   "source": [
    "rf = ensemble.RandomForestClassifier(random_state=42)\n",
    "\n",
    "rf.fit(X_train_scaled, y_train)\n",
    "\n",
    "y_train_pred = rf.predict(X_train_scaled)\n",
    "y_test_pred = rf.predict(X_test_scaled)\n",
    "\n",
    "print('f1_score for Train with RandomForestClassifier: {:.2f}'.format(metrics.f1_score(y_train, y_train_pred)))\n",
    "print('f1_score for Test with RandomForestClassifier: {:.2f}'.format(metrics.f1_score(y_test, y_test_pred)))"
   ]
  },
  {
   "attachments": {},
   "cell_type": "markdown",
   "metadata": {},
   "source": [
    "GridSearchCV"
   ]
  },
  {
   "cell_type": "code",
   "execution_count": 20,
   "metadata": {},
   "outputs": [
    {
     "name": "stdout",
     "output_type": "stream",
     "text": [
      "CPU times: total: 1.75 s\n",
      "Wall time: 14min 45s\n",
      "f1_score на тестовом наборе: 0.78\n",
      "Наилучшие значения гиперпараметров: {'C': 0.01, 'penalty': 'l2', 'solver': 'lbfgs'}\n",
      "Наилучшая модель:\n",
      "LogisticRegression(C=0.01, max_iter=1000, random_state=42)\n",
      "Наилучшее значение точности при кросс-валидаци: 0.76\n"
     ]
    }
   ],
   "source": [
    "param_grid = {'penalty': ['l2', 'none'],\n",
    "              'solver': ['lbfgs', 'sag'],\n",
    "              'C': list(np.linspace(0.01, 1, 3, dtype=float))}\n",
    "\n",
    "grid_search = GridSearchCV(\n",
    "    estimator=linear_model.LogisticRegression(\n",
    "        random_state=42, \n",
    "        max_iter=1000 \n",
    "    ), \n",
    "    param_grid=param_grid, \n",
    "    cv=5, \n",
    "    n_jobs = -1\n",
    ")  \n",
    "\n",
    "%time grid_search.fit(X_train_scaled, y_train) \n",
    "y_test_pred = grid_search.predict(X_test_scaled)\n",
    "\n",
    "print('f1_score на тестовом наборе: {:.2f}'.format(metrics.f1_score(y_test, y_test_pred)))\n",
    "print(\"Наилучшие значения гиперпараметров: {}\".format(grid_search.best_params_))\n",
    "\n",
    "print(\"Наилучшая модель:\\n{}\".format(grid_search.best_estimator_))\n",
    "print(\"Наилучшее значение точности при кросс-валидаци: {:.2f}\".format(grid_search.best_score_))"
   ]
  },
  {
   "cell_type": "code",
   "execution_count": 21,
   "metadata": {},
   "outputs": [
    {
     "name": "stdout",
     "output_type": "stream",
     "text": [
      "CPU times: total: 8.09 s\n",
      "Wall time: 9min 5s\n",
      "f1_score на обучающем наборе: 0.95\n",
      "f1_score на тестовом наборе: 0.81\n",
      "Наилучшие значения гиперпараметров: {'criterion': 'entropy', 'max_depth': 25, 'min_samples_leaf': 5, 'n_estimators': 300}\n"
     ]
    }
   ],
   "source": [
    "param_grid = {'n_estimators': list(range(100, 500, 100)),\n",
    "              'min_samples_leaf': [5],\n",
    "              'max_depth': list(np.linspace(20, 40, 5, dtype=int)),\n",
    "              'criterion': ['gini', 'entropy']\n",
    "              }\n",
    "            \n",
    "grid_search_forest = GridSearchCV(\n",
    "    estimator=rf, \n",
    "    param_grid=param_grid, \n",
    "    cv=5, \n",
    "    n_jobs = -1\n",
    ")  \n",
    "%time grid_search_forest.fit(X_train_scaled, y_train) \n",
    "y_train_pred = grid_search_forest.predict(X_train_scaled)\n",
    "print('f1_score на обучающем наборе: {:.2f}'.format(metrics.f1_score(y_train, y_train_pred)))\n",
    "\n",
    "y_test_pred = grid_search_forest.predict(X_test_scaled)\n",
    "print('f1_score на тестовом наборе: {:.2f}'.format(metrics.f1_score(y_test, y_test_pred)))\n",
    "print(\"Наилучшие значения гиперпараметров: {}\".format(grid_search_forest.best_params_))\n"
   ]
  },
  {
   "attachments": {},
   "cell_type": "markdown",
   "metadata": {},
   "source": [
    "RandomizedSearchCV"
   ]
  },
  {
   "cell_type": "code",
   "execution_count": 22,
   "metadata": {},
   "outputs": [
    {
     "name": "stdout",
     "output_type": "stream",
     "text": [
      "CPU times: total: 6.3 s\n",
      "Wall time: 9min 32s\n",
      "f1_score на тестовом наборе: 0.78\n",
      "Наилучшие значения гиперпараметров: {'solver': 'sag', 'penalty': 'l2', 'C': 0.01}\n"
     ]
    }
   ],
   "source": [
    "\n",
    "param_distributions = {'penalty': ['l2', 'none'],\n",
    "                       'solver': ['lbfgs', 'sag'],\n",
    "                       'C': list(np.linspace(0.01, 1, 4, dtype=float))}\n",
    "            \n",
    "random_search = RandomizedSearchCV(\n",
    "    estimator=log_reg, \n",
    "    param_distributions=param_distributions, \n",
    "    cv=5, \n",
    "    n_iter = 10, \n",
    "    n_jobs = -1\n",
    ")  \n",
    "%time random_search.fit(X_train_scaled, y_train) \n",
    "y_test_pred = random_search.predict(X_test_scaled)\n",
    "print('f1_score на тестовом наборе: {:.2f}'.format(metrics.f1_score(y_test, y_test_pred)))\n",
    "print(\"Наилучшие значения гиперпараметров: {}\".format(random_search.best_params_))"
   ]
  },
  {
   "cell_type": "code",
   "execution_count": 23,
   "metadata": {},
   "outputs": [
    {
     "name": "stdout",
     "output_type": "stream",
     "text": [
      "CPU times: total: 3.55 s\n",
      "Wall time: 1min 1s\n",
      "f1_score на обучающем наборе: 0.95\n",
      "f1_score на тестовом наборе: 0.79\n",
      "Наилучшие значения гиперпараметров: {'n_estimators': 140, 'min_samples_leaf': 5, 'max_depth': 22, 'criterion': 'entropy'}\n"
     ]
    }
   ],
   "source": [
    "param_distributions = {'n_estimators': list(range(80, 200, 30)),\n",
    "                       'min_samples_leaf': [5],\n",
    "                       'max_depth': list(np.linspace(20, 40, 10, dtype=int)),\n",
    "                       'criterion': ['gini', 'entropy']\n",
    "}\n",
    "            \n",
    "random_search_forest = RandomizedSearchCV(\n",
    "    estimator=rf, \n",
    "    param_distributions=param_distributions, \n",
    "    cv=5,\n",
    "    n_iter = 10, \n",
    "    n_jobs = -1\n",
    ")  \n",
    "%time random_search_forest.fit(X_train_scaled, y_train) \n",
    "y_train_pred = random_search_forest.predict(X_train_scaled)\n",
    "print('f1_score на обучающем наборе: {:.2f}'.format(metrics.f1_score(y_train, y_train_pred)))\n",
    "\n",
    "y_test_pred = random_search_forest.predict(X_test_scaled)\n",
    "print('f1_score на тестовом наборе: {:.2f}'.format(metrics.f1_score(y_test, y_test_pred)))\n",
    "print(\"Наилучшие значения гиперпараметров: {}\".format(random_search_forest.best_params_))"
   ]
  },
  {
   "cell_type": "code",
   "execution_count": 24,
   "metadata": {},
   "outputs": [
    {
     "name": "stdout",
     "output_type": "stream",
     "text": [
      "Наилучшая модель:\n",
      "RandomForestClassifier(criterion='entropy', max_depth=22, min_samples_leaf=5,\n",
      "                       n_estimators=140, random_state=42)\n",
      "Наилучшее значение точности при кросс-валидаци: 0.80\n"
     ]
    }
   ],
   "source": [
    "print(\"Наилучшая модель:\\n{}\".format(random_search_forest.best_estimator_))\n",
    "print(\"Наилучшее значение точности при кросс-валидаци: {:.2f}\".format(random_search_forest.best_score_))"
   ]
  },
  {
   "attachments": {},
   "cell_type": "markdown",
   "metadata": {},
   "source": [
    "Hyperopt x LogisticRegression"
   ]
  },
  {
   "cell_type": "code",
   "execution_count": 31,
   "metadata": {},
   "outputs": [
    {
     "name": "stdout",
     "output_type": "stream",
     "text": [
      "CPU times: total: 0 ns\n",
      "Wall time: 0 ns\n",
      "100%|██████████| 20/20 [06:46<00:00, 20.33s/trial, best loss: -0.7910017999615568]\n",
      "Наилучшие значения гиперпараметров {'C': 0.05084775379720359, 'penalty': 0, 'solver': 0}\n"
     ]
    }
   ],
   "source": [
    "space={'penalty': hp.choice('penalty', ('l2','none' )),\n",
    "       'solver' : hp.choice('solver', ('lbfgs', 'sag')),\n",
    "       'C': hp.uniform('C', 0.01, 1)\n",
    "    }\n",
    "\n",
    "\n",
    "random_state = 42\n",
    "def hyperopt_lg(params, cv=5, X=X_train_scaled, y=y_train, random_state=random_state):\n",
    "    params = {'penalty': params['penalty'], \n",
    "              'solver': params['solver'], \n",
    "             'C': float(params['C'])\n",
    "              }\n",
    "  \n",
    "    model = linear_model.LogisticRegression(**params, random_state=random_state)\n",
    "\n",
    "    model.fit(X, y)\n",
    "    score = cross_val_score(model, X, y, cv=cv, scoring=\"f1\", n_jobs=-1).mean()\n",
    "\n",
    "    # метрику необходимо минимизировать, поэтому ставим знак минус\n",
    "    return -score\n",
    "\n",
    "\n",
    "%%time \n",
    "trials = Trials() # используется для логирования результатов\n",
    "\n",
    "best=fmin(hyperopt_lg, # наша функция \n",
    "          space=space, # пространство гиперпараметров\n",
    "          algo=tpe.suggest, # алгоритм оптимизации, установлен по умолчанию, задавать необязательно\n",
    "          max_evals=20, # максимальное количество итераций\n",
    "          trials=trials, # логирование результатов\n",
    "          rstate=np.random.default_rng(random_state)\n",
    "         )\n",
    "\n",
    "print(\"Наилучшие значения гиперпараметров {}\".format(best))"
   ]
  },
  {
   "cell_type": "code",
   "execution_count": 32,
   "metadata": {},
   "outputs": [
    {
     "name": "stdout",
     "output_type": "stream",
     "text": [
      "f1_score на обучающем наборе: 0.85\n",
      "f1_score на тестовом наборе: 0.78\n"
     ]
    }
   ],
   "source": [
    "\n",
    "# рассчитаем точность для тестовой выборки\n",
    "model = linear_model.LogisticRegression(\n",
    "    random_state=random_state, \n",
    "    penalty=hyperopt.space_eval(space, best)['penalty'],\n",
    "    solver=hyperopt.space_eval(space, best)['solver'],\n",
    "    C=float(best['C'])\n",
    ")\n",
    "model.fit(X_train_scaled, y_train)\n",
    "y_train_pred = model.predict(X_train_scaled)\n",
    "print('f1_score на обучающем наборе: {:.2f}'.format(metrics.f1_score(y_train, y_train_pred)))\n",
    "y_test_pred = model.predict(X_test_scaled)\n",
    "print('f1_score на тестовом наборе: {:.2f}'.format(metrics.f1_score(y_test, y_test_pred)))"
   ]
  },
  {
   "attachments": {},
   "cell_type": "markdown",
   "metadata": {},
   "source": [
    "Hyperopt x RandomForestClassifier"
   ]
  },
  {
   "cell_type": "code",
   "execution_count": 37,
   "metadata": {},
   "outputs": [],
   "source": [
    "space={'n_estimators': hp.quniform('n_estimators', 100, 200, 1),\n",
    "       'max_depth' : hp.quniform('max_depth', 15, 26, 1),\n",
    "       'min_samples_leaf': hp.quniform('min_samples_leaf', 2, 10, 1)\n",
    "      }\n",
    "\n",
    "random_state = 42\n",
    "def hyperopt_rf(params, cv=5, X=X_train_scaled, y=y_train, random_state=random_state):\n",
    "    # функция получает комбинацию гиперпараметров в \"params\"\n",
    "    params = {'n_estimators': int(params['n_estimators']), \n",
    "              'max_depth': int(params['max_depth']), \n",
    "             'min_samples_leaf': int(params['min_samples_leaf'])\n",
    "              }\n",
    "  \n",
    "    # используем эту комбинацию для построения модели\n",
    "    model = ensemble.RandomForestClassifier(**params, random_state=random_state)\n",
    "\n",
    "    # обучаем модель\n",
    "    model.fit(X, y)\n",
    "    score = cross_val_score(model, X, y, cv=cv, scoring=\"f1\", n_jobs=-1).mean()\n",
    "\n",
    "    # метрику необходимо минимизировать, поэтому ставим знак минус\n",
    "    return -score"
   ]
  },
  {
   "cell_type": "code",
   "execution_count": 38,
   "metadata": {},
   "outputs": [
    {
     "name": "stdout",
     "output_type": "stream",
     "text": [
      "CPU times: total: 0 ns\n",
      "Wall time: 0 ns\n",
      "100%|██████████| 20/20 [06:13<00:00, 18.69s/trial, best loss: -0.8151059500953352]\n",
      "Наилучшие значения гиперпараметров {'max_depth': 18.0, 'min_samples_leaf': 2.0, 'n_estimators': 103.0}\n"
     ]
    }
   ],
   "source": [
    "%%time\n",
    "\n",
    "trials = Trials() # используется для логирования результатов\n",
    "\n",
    "best=fmin(hyperopt_rf, # наша функция \n",
    "          space=space, # пространство гиперпараметров\n",
    "          algo=tpe.suggest, # алгоритм оптимизации, установлен по умолчанию, задавать необязательно\n",
    "          max_evals=20, # максимальное количество итераций\n",
    "          trials=trials, # логирование результатов\n",
    "          rstate=np.random.default_rng(random_state)\n",
    "        #   rstate=np.random.RandomState(random_state)# фиксируем для повторяемости результата\n",
    "         )\n",
    "print(\"Наилучшие значения гиперпараметров {}\".format(best))"
   ]
  },
  {
   "cell_type": "code",
   "execution_count": null,
   "metadata": {},
   "outputs": [
    {
     "name": "stdout",
     "output_type": "stream",
     "text": [
      "f1_score на обучающем наборе: 0.99\n",
      "f1_score на тестовом наборе: 0.81\n"
     ]
    }
   ],
   "source": [
    "# рассчитаем точность для тестовой выборки\n",
    "model = ensemble.RandomForestClassifier(\n",
    "    random_state=random_state, \n",
    "    n_estimators=int(best['n_estimators']),\n",
    "    max_depth=int(best['max_depth']),\n",
    "    min_samples_leaf=int(best['min_samples_leaf']),\n",
    "    criterion=hyperopt.space_eval['criterion']\n",
    ")\n",
    "model.fit(X_train_scaled, y_train)\n",
    "y_train_pred = model.predict(X_train_scaled)\n",
    "print('f1_score на обучающем наборе: {:.2f}'.format(metrics.f1_score(y_train, y_train_pred)))\n",
    "y_test_pred = model.predict(X_test_scaled)\n",
    "print('f1_score на тестовом наборе: {:.2f}'.format(metrics.f1_score(y_test, y_test_pred)))"
   ]
  },
  {
   "attachments": {},
   "cell_type": "markdown",
   "metadata": {},
   "source": [
    "Optuna x LogisticRegression"
   ]
  },
  {
   "cell_type": "code",
   "execution_count": null,
   "metadata": {},
   "outputs": [],
   "source": [
    "def optuna_lg(trial):\n",
    "\n",
    "  penalty = trial.suggest_categorical('penalty', ['l2', 'none'])\n",
    "  solver = trial.suggest_categorical('solver',  ['lbfgs', 'sag'])\n",
    "  C_ = trial.suggest_float('C', 0.01, 1)\n",
    "\n",
    "  # создаем модель\n",
    "  model = linear_model.LogisticRegression(penalty=penalty,\n",
    "                                          solver=solver,\n",
    "                                          C=C_,\n",
    "                                          random_state=random_state)\n",
    "  # обучаем модель\n",
    "  model.fit(X_train_scaled, y_train)\n",
    "  score = metrics.f1_score(y_train, model.predict(X_train_scaled))\n",
    "\n",
    "  return score\n",
    "    "
   ]
  },
  {
   "cell_type": "code",
   "execution_count": null,
   "metadata": {},
   "outputs": [
    {
     "name": "stderr",
     "output_type": "stream",
     "text": [
      "\u001b[32m[I 2023-02-06 13:26:29,555]\u001b[0m A new study created in memory with name: LogisticRegression\u001b[0m\n",
      "\u001b[32m[I 2023-02-06 13:26:40,516]\u001b[0m Trial 0 finished with value: 0.8946889226100152 and parameters: {'penalty': 'none', 'solver': 'sag', 'C': 0.58188923811319}. Best is trial 0 with value: 0.8946889226100152.\u001b[0m\n",
      "\u001b[32m[I 2023-02-06 13:26:49,453]\u001b[0m Trial 1 finished with value: 0.8861911987860395 and parameters: {'penalty': 'l2', 'solver': 'sag', 'C': 0.8065264240693678}. Best is trial 0 with value: 0.8946889226100152.\u001b[0m\n",
      "\u001b[32m[I 2023-02-06 13:26:50,741]\u001b[0m Trial 2 finished with value: 0.9169741697416974 and parameters: {'penalty': 'none', 'solver': 'lbfgs', 'C': 0.6427549112472186}. Best is trial 2 with value: 0.9169741697416974.\u001b[0m\n",
      "\u001b[32m[I 2023-02-06 13:26:52,510]\u001b[0m Trial 3 finished with value: 0.891317547055252 and parameters: {'penalty': 'l2', 'solver': 'lbfgs', 'C': 0.786388341871086}. Best is trial 2 with value: 0.9169741697416974.\u001b[0m\n",
      "\u001b[32m[I 2023-02-06 13:26:53,662]\u001b[0m Trial 4 finished with value: 0.9169741697416974 and parameters: {'penalty': 'none', 'solver': 'lbfgs', 'C': 0.10386114158591955}. Best is trial 2 with value: 0.9169741697416974.\u001b[0m\n",
      "\u001b[32m[I 2023-02-06 13:26:56,288]\u001b[0m Trial 5 finished with value: 0.9169741697416974 and parameters: {'penalty': 'none', 'solver': 'lbfgs', 'C': 0.25434075847022763}. Best is trial 2 with value: 0.9169741697416974.\u001b[0m\n",
      "\u001b[32m[I 2023-02-06 13:26:59,420]\u001b[0m Trial 6 finished with value: 0.9169741697416974 and parameters: {'penalty': 'none', 'solver': 'lbfgs', 'C': 0.10691673122916184}. Best is trial 2 with value: 0.9169741697416974.\u001b[0m\n",
      "\u001b[32m[I 2023-02-06 13:27:10,987]\u001b[0m Trial 7 finished with value: 0.8946889226100152 and parameters: {'penalty': 'none', 'solver': 'sag', 'C': 0.9057270078634689}. Best is trial 2 with value: 0.9169741697416974.\u001b[0m\n",
      "\u001b[32m[I 2023-02-06 13:27:21,538]\u001b[0m Trial 8 finished with value: 0.8946889226100152 and parameters: {'penalty': 'none', 'solver': 'sag', 'C': 0.3085911790447973}. Best is trial 2 with value: 0.9169741697416974.\u001b[0m\n",
      "\u001b[32m[I 2023-02-06 13:27:23,089]\u001b[0m Trial 9 finished with value: 0.8874051593323217 and parameters: {'penalty': 'l2', 'solver': 'lbfgs', 'C': 0.548121074323469}. Best is trial 2 with value: 0.9169741697416974.\u001b[0m\n",
      "\u001b[32m[I 2023-02-06 13:27:24,240]\u001b[0m Trial 10 finished with value: 0.9169741697416974 and parameters: {'penalty': 'none', 'solver': 'lbfgs', 'C': 0.9893706853560245}. Best is trial 2 with value: 0.9169741697416974.\u001b[0m\n",
      "\u001b[32m[I 2023-02-06 13:27:25,719]\u001b[0m Trial 11 finished with value: 0.9169741697416974 and parameters: {'penalty': 'none', 'solver': 'lbfgs', 'C': 0.02680671363291176}. Best is trial 2 with value: 0.9169741697416974.\u001b[0m\n",
      "\u001b[32m[I 2023-02-06 13:27:26,870]\u001b[0m Trial 12 finished with value: 0.9169741697416974 and parameters: {'penalty': 'none', 'solver': 'lbfgs', 'C': 0.4109322264012354}. Best is trial 2 with value: 0.9169741697416974.\u001b[0m\n",
      "\u001b[32m[I 2023-02-06 13:27:28,216]\u001b[0m Trial 13 finished with value: 0.9169741697416974 and parameters: {'penalty': 'none', 'solver': 'lbfgs', 'C': 0.6370738940112401}. Best is trial 2 with value: 0.9169741697416974.\u001b[0m\n",
      "\u001b[32m[I 2023-02-06 13:27:29,796]\u001b[0m Trial 14 finished with value: 0.9169741697416974 and parameters: {'penalty': 'none', 'solver': 'lbfgs', 'C': 0.42521532106726323}. Best is trial 2 with value: 0.9169741697416974.\u001b[0m\n",
      "\u001b[32m[I 2023-02-06 13:27:31,552]\u001b[0m Trial 15 finished with value: 0.8668880169031089 and parameters: {'penalty': 'l2', 'solver': 'lbfgs', 'C': 0.16596260835540708}. Best is trial 2 with value: 0.9169741697416974.\u001b[0m\n",
      "\u001b[32m[I 2023-02-06 13:27:32,890]\u001b[0m Trial 16 finished with value: 0.9169741697416974 and parameters: {'penalty': 'none', 'solver': 'lbfgs', 'C': 0.6675662630651099}. Best is trial 2 with value: 0.9169741697416974.\u001b[0m\n",
      "\u001b[32m[I 2023-02-06 13:27:34,350]\u001b[0m Trial 17 finished with value: 0.9169741697416974 and parameters: {'penalty': 'none', 'solver': 'lbfgs', 'C': 0.4495049254563023}. Best is trial 2 with value: 0.9169741697416974.\u001b[0m\n",
      "\u001b[32m[I 2023-02-06 13:27:48,476]\u001b[0m Trial 18 finished with value: 0.8757575757575757 and parameters: {'penalty': 'l2', 'solver': 'sag', 'C': 0.2987863540520904}. Best is trial 2 with value: 0.9169741697416974.\u001b[0m\n",
      "\u001b[32m[I 2023-02-06 13:27:50,520]\u001b[0m Trial 19 finished with value: 0.9169741697416974 and parameters: {'penalty': 'none', 'solver': 'lbfgs', 'C': 0.03057507061909831}. Best is trial 2 with value: 0.9169741697416974.\u001b[0m\n"
     ]
    },
    {
     "name": "stdout",
     "output_type": "stream",
     "text": [
      "CPU times: total: 1min 20s\n",
      "Wall time: 1min 20s\n"
     ]
    }
   ],
   "source": [
    "%%time\n",
    "# cоздаем объект исследования\n",
    "# можем напрямую указать, что нам необходимо максимизировать метрику direction=\"maximize\"\n",
    "study = optuna.create_study(study_name=\"LogisticRegression\", direction=\"maximize\")\n",
    "# ищем лучшую комбинацию гиперпараметров n_trials раз\n",
    "study.optimize(optuna_lg, n_trials=20)"
   ]
  },
  {
   "cell_type": "code",
   "execution_count": null,
   "metadata": {},
   "outputs": [
    {
     "name": "stdout",
     "output_type": "stream",
     "text": [
      "Наилучшие значения гиперпараметров {'penalty': 'none', 'solver': 'lbfgs', 'C': 0.6427549112472186}\n",
      "f1_score на обучающем наборе: 0.92\n"
     ]
    }
   ],
   "source": [
    "# выводим результаты на обучающей выборке\n",
    "print(\"Наилучшие значения гиперпараметров {}\".format(study.best_params))\n",
    "print(\"f1_score на обучающем наборе: {:.2f}\".format(study.best_value))"
   ]
  },
  {
   "cell_type": "code",
   "execution_count": null,
   "metadata": {},
   "outputs": [
    {
     "name": "stdout",
     "output_type": "stream",
     "text": [
      "f1_score на тестовом наборе: 0.75\n"
     ]
    }
   ],
   "source": [
    "# рассчитаем точность для тестовой выборки\n",
    "\n",
    "model = linear_model.LogisticRegression(**study.best_params,random_state=random_state, )\n",
    "model.fit(X_train_scaled, y_train)\n",
    "y_train_pred = model.predict(X_train_scaled)\n",
    "y_test_pred = model.predict(X_test_scaled)\n",
    "print('f1_score на тестовом наборе: {:.2f}'.format(metrics.f1_score(y_test, y_test_pred)))"
   ]
  },
  {
   "attachments": {},
   "cell_type": "markdown",
   "metadata": {},
   "source": [
    "Optuna x RandomForestClassifier"
   ]
  },
  {
   "cell_type": "code",
   "execution_count": null,
   "metadata": {},
   "outputs": [],
   "source": [
    "def optuna_rf(trial):\n",
    "  # задаем пространства поиска гиперпараметров\n",
    "  n_estimators = trial.suggest_int('n_estimators', 100, 200, 1)\n",
    "  max_depth = trial.suggest_int('max_depth', 10, 30, 1)\n",
    "  min_samples_leaf = trial.suggest_int('min_samples_leaf', 2, 10, 1)\n",
    "  \n",
    "\n",
    "  # создаем модель\n",
    "  model = ensemble.RandomForestClassifier(n_estimators=n_estimators,\n",
    "                                          max_depth=max_depth,\n",
    "                                          min_samples_leaf=min_samples_leaf,\n",
    "                                          random_state=random_state)\n",
    "  # обучаем модель\n",
    "  model.fit(X_train_scaled, y_train)\n",
    "  score = metrics.f1_score(y_train, model.predict(X_train_scaled))\n",
    "\n",
    "  return score\n",
    "    "
   ]
  },
  {
   "cell_type": "code",
   "execution_count": null,
   "metadata": {},
   "outputs": [
    {
     "name": "stderr",
     "output_type": "stream",
     "text": [
      "\u001b[32m[I 2023-02-06 13:48:38,582]\u001b[0m A new study created in memory with name: RandomForestClassifier\u001b[0m\n",
      "\u001b[32m[I 2023-02-06 13:48:44,689]\u001b[0m Trial 0 finished with value: 0.9087591240875912 and parameters: {'n_estimators': 113, 'max_depth': 24, 'min_samples_leaf': 8}. Best is trial 0 with value: 0.9087591240875912.\u001b[0m\n",
      "\u001b[32m[I 2023-02-06 13:48:51,636]\u001b[0m Trial 1 finished with value: 0.9448338921060652 and parameters: {'n_estimators': 154, 'max_depth': 23, 'min_samples_leaf': 5}. Best is trial 1 with value: 0.9448338921060652.\u001b[0m\n",
      "\u001b[32m[I 2023-02-06 13:48:57,198]\u001b[0m Trial 2 finished with value: 0.9731051344743277 and parameters: {'n_estimators': 194, 'max_depth': 20, 'min_samples_leaf': 3}. Best is trial 2 with value: 0.9731051344743277.\u001b[0m\n",
      "\u001b[32m[I 2023-02-06 13:49:04,316]\u001b[0m Trial 3 finished with value: 0.9172245891661593 and parameters: {'n_estimators': 194, 'max_depth': 16, 'min_samples_leaf': 7}. Best is trial 2 with value: 0.9731051344743277.\u001b[0m\n",
      "\u001b[32m[I 2023-02-06 13:49:10,018]\u001b[0m Trial 4 finished with value: 0.9144958627030341 and parameters: {'n_estimators': 126, 'max_depth': 10, 'min_samples_leaf': 4}. Best is trial 2 with value: 0.9731051344743277.\u001b[0m\n",
      "\u001b[32m[I 2023-02-06 13:49:13,066]\u001b[0m Trial 5 finished with value: 0.8894303990252818 and parameters: {'n_estimators': 108, 'max_depth': 11, 'min_samples_leaf': 9}. Best is trial 2 with value: 0.9731051344743277.\u001b[0m\n",
      "\u001b[32m[I 2023-02-06 13:49:16,583]\u001b[0m Trial 6 finished with value: 0.9329660238751147 and parameters: {'n_estimators': 123, 'max_depth': 11, 'min_samples_leaf': 3}. Best is trial 2 with value: 0.9731051344743277.\u001b[0m\n",
      "\u001b[32m[I 2023-02-06 13:49:21,522]\u001b[0m Trial 7 finished with value: 0.9901840490797547 and parameters: {'n_estimators': 151, 'max_depth': 29, 'min_samples_leaf': 2}. Best is trial 7 with value: 0.9901840490797547.\u001b[0m\n",
      "\u001b[32m[I 2023-02-06 13:49:25,581]\u001b[0m Trial 8 finished with value: 0.9213483146067415 and parameters: {'n_estimators': 183, 'max_depth': 27, 'min_samples_leaf': 7}. Best is trial 7 with value: 0.9901840490797547.\u001b[0m\n",
      "\u001b[32m[I 2023-02-06 13:49:29,385]\u001b[0m Trial 9 finished with value: 0.893552311435523 and parameters: {'n_estimators': 194, 'max_depth': 28, 'min_samples_leaf': 10}. Best is trial 7 with value: 0.9901840490797547.\u001b[0m\n",
      "\u001b[32m[I 2023-02-06 13:49:34,603]\u001b[0m Trial 10 finished with value: 0.9911015648972077 and parameters: {'n_estimators': 159, 'max_depth': 30, 'min_samples_leaf': 2}. Best is trial 10 with value: 0.9911015648972077.\u001b[0m\n",
      "\u001b[32m[I 2023-02-06 13:49:40,725]\u001b[0m Trial 11 finished with value: 0.99079754601227 and parameters: {'n_estimators': 158, 'max_depth': 30, 'min_samples_leaf': 2}. Best is trial 10 with value: 0.9911015648972077.\u001b[0m\n",
      "\u001b[32m[I 2023-02-06 13:49:45,451]\u001b[0m Trial 12 finished with value: 0.9914110429447852 and parameters: {'n_estimators': 169, 'max_depth': 30, 'min_samples_leaf': 2}. Best is trial 12 with value: 0.9914110429447852.\u001b[0m\n",
      "\u001b[32m[I 2023-02-06 13:49:49,533]\u001b[0m Trial 13 finished with value: 0.9453768690875802 and parameters: {'n_estimators': 166, 'max_depth': 25, 'min_samples_leaf': 5}. Best is trial 12 with value: 0.9914110429447852.\u001b[0m\n",
      "\u001b[32m[I 2023-02-06 13:49:54,832]\u001b[0m Trial 14 finished with value: 0.9883507050889024 and parameters: {'n_estimators': 173, 'max_depth': 19, 'min_samples_leaf': 2}. Best is trial 12 with value: 0.9914110429447852.\u001b[0m\n",
      "\u001b[32m[I 2023-02-06 13:50:00,084]\u001b[0m Trial 15 finished with value: 0.9567336989640463 and parameters: {'n_estimators': 142, 'max_depth': 26, 'min_samples_leaf': 4}. Best is trial 12 with value: 0.9914110429447852.\u001b[0m\n",
      "\u001b[32m[I 2023-02-06 13:50:05,344]\u001b[0m Trial 16 finished with value: 0.9561243144424132 and parameters: {'n_estimators': 138, 'max_depth': 30, 'min_samples_leaf': 4}. Best is trial 12 with value: 0.9914110429447852.\u001b[0m\n",
      "\u001b[32m[I 2023-02-06 13:50:10,162]\u001b[0m Trial 17 finished with value: 0.9758483644145522 and parameters: {'n_estimators': 178, 'max_depth': 22, 'min_samples_leaf': 3}. Best is trial 12 with value: 0.9914110429447852.\u001b[0m\n",
      "\u001b[32m[I 2023-02-06 13:50:13,889]\u001b[0m Trial 18 finished with value: 0.9301616346447088 and parameters: {'n_estimators': 166, 'max_depth': 17, 'min_samples_leaf': 6}. Best is trial 12 with value: 0.9914110429447852.\u001b[0m\n",
      "\u001b[32m[I 2023-02-06 13:50:19,320]\u001b[0m Trial 19 finished with value: 0.9898866074164879 and parameters: {'n_estimators': 140, 'max_depth': 27, 'min_samples_leaf': 2}. Best is trial 12 with value: 0.9914110429447852.\u001b[0m\n"
     ]
    },
    {
     "name": "stdout",
     "output_type": "stream",
     "text": [
      "CPU times: total: 1min 26s\n",
      "Wall time: 1min 40s\n"
     ]
    }
   ],
   "source": [
    "%%time\n",
    "# cоздаем объект исследования\n",
    "# можем напрямую указать, что нам необходимо максимизировать метрику direction=\"maximize\"\n",
    "study = optuna.create_study(study_name=\"RandomForestClassifier\", direction=\"maximize\")\n",
    "# ищем лучшую комбинацию гиперпараметров n_trials раз\n",
    "study.optimize(optuna_rf, n_trials=20)"
   ]
  },
  {
   "cell_type": "code",
   "execution_count": null,
   "metadata": {},
   "outputs": [
    {
     "name": "stdout",
     "output_type": "stream",
     "text": [
      "Наилучшие значения гиперпараметров {'n_estimators': 169, 'max_depth': 30, 'min_samples_leaf': 2}\n",
      "f1_score на обучающем наборе: 0.99\n"
     ]
    }
   ],
   "source": [
    "# выводим результаты на обучающей выборке\n",
    "print(\"Наилучшие значения гиперпараметров {}\".format(study.best_params))\n",
    "print(\"f1_score на обучающем наборе: {:.2f}\".format(study.best_value))"
   ]
  },
  {
   "cell_type": "code",
   "execution_count": null,
   "metadata": {},
   "outputs": [
    {
     "name": "stdout",
     "output_type": "stream",
     "text": [
      "f1_score на тестовом наборе: 0.80\n"
     ]
    }
   ],
   "source": [
    "# рассчитаем точность для тестовой выборки\n",
    "model = ensemble.RandomForestClassifier(**study.best_params,random_state=random_state, )\n",
    "model.fit(X_train_scaled, y_train)\n",
    "y_train_pred = model.predict(X_train_scaled)\n",
    "y_test_pred = model.predict(X_test_scaled)\n",
    "print('f1_score на тестовом наборе: {:.2f}'.format(metrics.f1_score(y_test, y_test_pred)))"
   ]
  }
 ],
 "metadata": {
  "kernelspec": {
   "display_name": "base",
   "language": "python",
   "name": "python3"
  },
  "language_info": {
   "codemirror_mode": {
    "name": "ipython",
    "version": 3
   },
   "file_extension": ".py",
   "mimetype": "text/x-python",
   "name": "python",
   "nbconvert_exporter": "python",
   "pygments_lexer": "ipython3",
   "version": "3.9.12"
  },
  "orig_nbformat": 4,
  "vscode": {
   "interpreter": {
    "hash": "32c2280e193bddc8bbfc6f1ba5428339a7c72f73b5715454f72758d75d5b329d"
   }
  }
 },
 "nbformat": 4,
 "nbformat_minor": 2
}
