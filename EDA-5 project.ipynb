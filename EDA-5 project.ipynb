{
 "cells": [
  {
   "cell_type": "markdown",
   "metadata": {},
   "source": [
    "# <center> Финальное здание.\n",
    "#### <center> Разведывательный анализ данных. EDA-5. A/B-тестирование"
   ]
  },
  {
   "cell_type": "markdown",
   "metadata": {},
   "source": [
    "Компания планирует запустить новую акцию, чтобы продать как можно больше туров. Команда разработала два варианта посадочной страницы официального сайта компании и провела A/B-тестирование. В результате проведения эксперимента собраны данные."
   ]
  },
  {
   "cell_type": "markdown",
   "metadata": {},
   "source": [
    "Задача: проанализировать эффективность обоих вариантов посадочной страницы сразу по двум критериям: конверсии покупки и среднему чеку. На основе проведённого анализа необходимо сделать выводы и принять решение: какой из вариантов дизайна более предпочтительный."
   ]
  },
  {
   "cell_type": "markdown",
   "metadata": {},
   "source": [
    "Фирма предлагает следующие варианты туров и их соответствующие стоимости:\n",
    "\n",
    "Таиланд — 100 000 рублей;\n",
    "Турция — 60 000 рублей;\n",
    "Мальдивы — 200 000 рублей;\n",
    "Санкт-Петербург — 10 000 рублей;\n",
    "Камчатка — 150 000 рублей.\n"
   ]
  },
  {
   "cell_type": "code",
   "execution_count": 1,
   "metadata": {},
   "outputs": [
    {
     "data": {
      "text/html": [
       "<div>\n",
       "<style scoped>\n",
       "    .dataframe tbody tr th:only-of-type {\n",
       "        vertical-align: middle;\n",
       "    }\n",
       "\n",
       "    .dataframe tbody tr th {\n",
       "        vertical-align: top;\n",
       "    }\n",
       "\n",
       "    .dataframe thead th {\n",
       "        text-align: right;\n",
       "    }\n",
       "</style>\n",
       "<table border=\"1\" class=\"dataframe\">\n",
       "  <thead>\n",
       "    <tr style=\"text-align: right;\">\n",
       "      <th></th>\n",
       "      <th>user_id</th>\n",
       "      <th>date</th>\n",
       "      <th>group</th>\n",
       "      <th>purchase</th>\n",
       "      <th>price</th>\n",
       "    </tr>\n",
       "  </thead>\n",
       "  <tbody>\n",
       "    <tr>\n",
       "      <th>0</th>\n",
       "      <td>851104</td>\n",
       "      <td>2021-01-21</td>\n",
       "      <td>A</td>\n",
       "      <td>0</td>\n",
       "      <td>0</td>\n",
       "    </tr>\n",
       "    <tr>\n",
       "      <th>1</th>\n",
       "      <td>804228</td>\n",
       "      <td>2021-01-12</td>\n",
       "      <td>A</td>\n",
       "      <td>0</td>\n",
       "      <td>0</td>\n",
       "    </tr>\n",
       "    <tr>\n",
       "      <th>2</th>\n",
       "      <td>661590</td>\n",
       "      <td>2021-01-11</td>\n",
       "      <td>B</td>\n",
       "      <td>0</td>\n",
       "      <td>0</td>\n",
       "    </tr>\n",
       "    <tr>\n",
       "      <th>3</th>\n",
       "      <td>853541</td>\n",
       "      <td>2021-01-08</td>\n",
       "      <td>B</td>\n",
       "      <td>0</td>\n",
       "      <td>0</td>\n",
       "    </tr>\n",
       "    <tr>\n",
       "      <th>4</th>\n",
       "      <td>864975</td>\n",
       "      <td>2021-01-21</td>\n",
       "      <td>A</td>\n",
       "      <td>1</td>\n",
       "      <td>150000</td>\n",
       "    </tr>\n",
       "  </tbody>\n",
       "</table>\n",
       "</div>"
      ],
      "text/plain": [
       "   user_id        date group  purchase   price\n",
       "0   851104  2021-01-21     A         0       0\n",
       "1   804228  2021-01-12     A         0       0\n",
       "2   661590  2021-01-11     B         0       0\n",
       "3   853541  2021-01-08     B         0       0\n",
       "4   864975  2021-01-21     A         1  150000"
      ]
     },
     "execution_count": 1,
     "metadata": {},
     "output_type": "execute_result"
    }
   ],
   "source": [
    "import pandas as pd\n",
    "data = pd.read_csv('../Data x analysis/ab_data_tourist.csv')\n",
    "data.head()"
   ]
  },
  {
   "cell_type": "markdown",
   "metadata": {},
   "source": [
    "* user_id - идентификатор пользователя, зашедшего на сайт\n",
    "* date - дата захода\n",
    "* group - группа теста (контрольная — А или тестовая — B)\n",
    "* purchase - признак покупки: совершил ли пользователь покупку тура (1 — да, 0 — нет)\n",
    "* price - цена купленного тура (если покупка не состоялась, цена равна 0)"
   ]
  },
  {
   "cell_type": "markdown",
   "metadata": {},
   "source": [
    "*** "
   ]
  },
  {
   "cell_type": "markdown",
   "metadata": {},
   "source": [
    "Задание 7.1\n",
    "\n",
    "Начнём с исследования структуры наших данных. С помощью метода info() выведите информацию о типах данных и количестве непустых значений. Какой тип данных имеет столбец date?"
   ]
  },
  {
   "cell_type": "code",
   "execution_count": 2,
   "metadata": {},
   "outputs": [
    {
     "name": "stdout",
     "output_type": "stream",
     "text": [
      "<class 'pandas.core.frame.DataFrame'>\n",
      "RangeIndex: 294478 entries, 0 to 294477\n",
      "Data columns (total 5 columns):\n",
      " #   Column    Non-Null Count   Dtype \n",
      "---  ------    --------------   ----- \n",
      " 0   user_id   294478 non-null  int64 \n",
      " 1   date      294478 non-null  object\n",
      " 2   group     294478 non-null  object\n",
      " 3   purchase  294478 non-null  int64 \n",
      " 4   price     294478 non-null  int64 \n",
      "dtypes: int64(3), object(2)\n",
      "memory usage: 11.2+ MB\n"
     ]
    }
   ],
   "source": [
    "data.info()"
   ]
  },
  {
   "cell_type": "markdown",
   "metadata": {},
   "source": [
    "Задание 7.2\n",
    "\n",
    "Приведите столбец date к типу данных datetime. Убедитесь в равной длительности проведения тестирования для каждой из групп. Для этого сгруппируйте данные по признаку группы и определите первую и последнюю дату наблюдения для каждой из групп.\n",
    "\n",
    "В какой промежуток времени проводился A/B-тест?"
   ]
  },
  {
   "cell_type": "code",
   "execution_count": 3,
   "metadata": {},
   "outputs": [
    {
     "name": "stdout",
     "output_type": "stream",
     "text": [
      "2021-01-02 2021-01-24\n"
     ]
    }
   ],
   "source": [
    "data['date'] = pd.to_datetime(data['date'])\n",
    "print(data['date'].dt.date.min(), data['date'].dt.date.max()) "
   ]
  },
  {
   "cell_type": "markdown",
   "metadata": {},
   "source": [
    "Задание 7.3\n",
    "\n",
    "Чему равно количество посещений сайта в группах А и B?"
   ]
  },
  {
   "cell_type": "code",
   "execution_count": 4,
   "metadata": {},
   "outputs": [
    {
     "data": {
      "text/plain": [
       "group\n",
       "A    147202\n",
       "B    147276\n",
       "Name: user_id, dtype: int64"
      ]
     },
     "execution_count": 4,
     "metadata": {},
     "output_type": "execute_result"
    }
   ],
   "source": [
    "data.groupby('group')['user_id'].count()"
   ]
  },
  {
   "cell_type": "markdown",
   "metadata": {},
   "source": [
    "Чему равно суммарное количество покупок в группах А и B?"
   ]
  },
  {
   "cell_type": "code",
   "execution_count": 5,
   "metadata": {},
   "outputs": [
    {
     "data": {
      "text/plain": [
       "group\n",
       "A    17723\n",
       "B    17514\n",
       "Name: purchase, dtype: int64"
      ]
     },
     "execution_count": 5,
     "metadata": {},
     "output_type": "execute_result"
    }
   ],
   "source": [
    "data.groupby('group')['purchase'].sum()"
   ]
  },
  {
   "cell_type": "markdown",
   "metadata": {},
   "source": [
    "Чему равна сумма всех покупок в группах А и B? Ответ приведите в миллионах рублей. Например, 185.52 млн. руб."
   ]
  },
  {
   "cell_type": "code",
   "execution_count": 6,
   "metadata": {},
   "outputs": [
    {
     "data": {
      "text/plain": [
       "group\n",
       "A    1436.26\n",
       "B    1554.10\n",
       "Name: revenue, dtype: float64"
      ]
     },
     "execution_count": 6,
     "metadata": {},
     "output_type": "execute_result"
    }
   ],
   "source": [
    "data['revenue'] = data['purchase'] * data['price']\n",
    "data.groupby('group')['revenue'].sum().apply(lambda x: round(x/1e6, 2))\n"
   ]
  },
  {
   "cell_type": "markdown",
   "metadata": {},
   "source": [
    "Задание 7.4\n",
    "\n",
    "Проверьте, есть ли пользователи, которые в процессе A/B-теста попали в обе тестовые группы? Если да, то сколько таких уникальных пользователей, если нет, введите в поле для ответа 0."
   ]
  },
  {
   "cell_type": "code",
   "execution_count": 7,
   "metadata": {},
   "outputs": [
    {
     "data": {
      "text/plain": [
       "1895"
      ]
     },
     "metadata": {},
     "output_type": "display_data"
    }
   ],
   "source": [
    "intersection_users = pd.merge(data[data['group'] == 'A'], \n",
    "                              data[data['group'] == 'B'], \n",
    "                              how='inner', \n",
    "                              on=['user_id']                             \n",
    "                              )\n",
    "display(len(intersection_users))"
   ]
  },
  {
   "cell_type": "markdown",
   "metadata": {},
   "source": [
    "Исключаем пользователей, оказавшихся в обеих группах."
   ]
  },
  {
   "cell_type": "code",
   "execution_count": 8,
   "metadata": {},
   "outputs": [],
   "source": [
    "user_intersection_set = set(intersection_users['user_id'])\n",
    "updated_data = data[data['user_id'].apply(lambda x: x not in user_intersection_set)]"
   ]
  },
  {
   "cell_type": "markdown",
   "metadata": {},
   "source": [
    "Задание 7.5\n",
    "\n",
    "Для первичного анализа результатов A/B-тестирования нам понадобится получить таблицу, сгруппируйте данные по признаку группы. В каждой группе рассчитайте следующие показатели:\n",
    "\n",
    "* количество посещений (количество пользователей);\n",
    "* количество совершённых покупок;\n",
    "* сумма всех покупок в группе.\n",
    "\n",
    "В полученной сгруппированной таблице переименуйте столбцы на count_visits, count_purchases и sum_price.\n",
    "\n",
    "Чему на этот раз равно количество посещений сайта в группах А и B?"
   ]
  },
  {
   "cell_type": "code",
   "execution_count": 9,
   "metadata": {},
   "outputs": [
    {
     "data": {
      "text/html": [
       "<div>\n",
       "<style scoped>\n",
       "    .dataframe tbody tr th:only-of-type {\n",
       "        vertical-align: middle;\n",
       "    }\n",
       "\n",
       "    .dataframe tbody tr th {\n",
       "        vertical-align: top;\n",
       "    }\n",
       "\n",
       "    .dataframe thead th {\n",
       "        text-align: right;\n",
       "    }\n",
       "</style>\n",
       "<table border=\"1\" class=\"dataframe\">\n",
       "  <thead>\n",
       "    <tr style=\"text-align: right;\">\n",
       "      <th></th>\n",
       "      <th>group</th>\n",
       "      <th>count_visits</th>\n",
       "      <th>count_purchases</th>\n",
       "      <th>sum_price</th>\n",
       "    </tr>\n",
       "  </thead>\n",
       "  <tbody>\n",
       "    <tr>\n",
       "      <th>0</th>\n",
       "      <td>A</td>\n",
       "      <td>145307</td>\n",
       "      <td>17487</td>\n",
       "      <td>1417780000</td>\n",
       "    </tr>\n",
       "    <tr>\n",
       "      <th>1</th>\n",
       "      <td>B</td>\n",
       "      <td>145381</td>\n",
       "      <td>17290</td>\n",
       "      <td>1533010000</td>\n",
       "    </tr>\n",
       "  </tbody>\n",
       "</table>\n",
       "</div>"
      ],
      "text/plain": [
       "  group  count_visits  count_purchases   sum_price\n",
       "0     A        145307            17487  1417780000\n",
       "1     B        145381            17290  1533010000"
      ]
     },
     "metadata": {},
     "output_type": "display_data"
    }
   ],
   "source": [
    "group_data = updated_data.groupby('group').agg(\n",
    "    count_visits=pd.NamedAgg(column='user_id', aggfunc='count'),\n",
    "    count_purchases=pd.NamedAgg(column='purchase', aggfunc='sum'),\n",
    "    sum_price=pd.NamedAgg(column='price', aggfunc='sum')).reset_index()\n",
    "\n",
    "display(group_data)"
   ]
  },
  {
   "cell_type": "markdown",
   "metadata": {},
   "source": [
    "✍️ Приведите промежуточные выводы по построенной таблице. Сопоставимо ли количество посещений обоих вариантов посадочной странице, можно ли говорить о сбалансированности выборок?\n",
    "\n"
   ]
  },
  {
   "cell_type": "markdown",
   "metadata": {},
   "source": [
    ">Вывод: После исключения пользователей, оказавшихся в обеих группах, наблюдаем достаточно сбалансированную выборку с минимальной разницей по количеству пользователей посетивших два варианта посадочной страницы."
   ]
  },
  {
   "cell_type": "markdown",
   "metadata": {},
   "source": [
    "Задание 7.6\n",
    "\n",
    "Добавьте в сгруппированную таблицу столбцы conversion — конверсия покупки (отношение количества покупок к количеству посещений сайта в каждой группе, выраженное в процентах) и mean_check — средний чек (отношение суммы покупок к количеству покупок в каждой группе).\n",
    "\n",
    "Чему равна конверсия в группах? Ответ приведите в процентах и округлите до сотых. Например, 75.12."
   ]
  },
  {
   "cell_type": "code",
   "execution_count": 10,
   "metadata": {},
   "outputs": [
    {
     "data": {
      "text/html": [
       "<div>\n",
       "<style scoped>\n",
       "    .dataframe tbody tr th:only-of-type {\n",
       "        vertical-align: middle;\n",
       "    }\n",
       "\n",
       "    .dataframe tbody tr th {\n",
       "        vertical-align: top;\n",
       "    }\n",
       "\n",
       "    .dataframe thead th {\n",
       "        text-align: right;\n",
       "    }\n",
       "</style>\n",
       "<table border=\"1\" class=\"dataframe\">\n",
       "  <thead>\n",
       "    <tr style=\"text-align: right;\">\n",
       "      <th></th>\n",
       "      <th>group</th>\n",
       "      <th>count_visits</th>\n",
       "      <th>count_purchases</th>\n",
       "      <th>sum_price</th>\n",
       "      <th>conversion</th>\n",
       "      <th>mean_check</th>\n",
       "    </tr>\n",
       "  </thead>\n",
       "  <tbody>\n",
       "    <tr>\n",
       "      <th>0</th>\n",
       "      <td>A</td>\n",
       "      <td>145307</td>\n",
       "      <td>17487</td>\n",
       "      <td>1417780000</td>\n",
       "      <td>12.03</td>\n",
       "      <td>81076.23</td>\n",
       "    </tr>\n",
       "    <tr>\n",
       "      <th>1</th>\n",
       "      <td>B</td>\n",
       "      <td>145381</td>\n",
       "      <td>17290</td>\n",
       "      <td>1533010000</td>\n",
       "      <td>11.89</td>\n",
       "      <td>88664.55</td>\n",
       "    </tr>\n",
       "  </tbody>\n",
       "</table>\n",
       "</div>"
      ],
      "text/plain": [
       "  group  count_visits  count_purchases   sum_price  conversion  mean_check\n",
       "0     A        145307            17487  1417780000       12.03    81076.23\n",
       "1     B        145381            17290  1533010000       11.89    88664.55"
      ]
     },
     "metadata": {},
     "output_type": "display_data"
    }
   ],
   "source": [
    "group_data['conversion'] = group_data['count_purchases'] / group_data['count_visits'] * 100\n",
    "group_data['mean_check'] = group_data['sum_price'] / group_data['count_purchases']\n",
    "\n",
    "group_data = group_data.round(2)\n",
    "display(group_data)"
   ]
  },
  {
   "cell_type": "markdown",
   "metadata": {},
   "source": [
    "✍️ Приведите промежуточные выводы по таблице. По какому(-им) показателю(-ям) вариант А эффективнее варианта B и наоборот?"
   ]
  },
  {
   "cell_type": "markdown",
   "metadata": {},
   "source": [
    ">Вывод: При анализе данных в расчете конверсии и среднего чека можно увидеть противоположную закономерность, что в варианте посадочной страницы А - количество покупок и конверсия выше. В то же время, вариант В показал более высокий средний чек и сумму покупок тура."
   ]
  },
  {
   "cell_type": "markdown",
   "metadata": {},
   "source": [
    "Задание 7.7\n",
    "\n",
    "Теперь давайте сравним варианты по покупательской способности туров. Для этого постройте сводную таблицу, которая покажет зависимость количества продаж от группы и цены тура.\n",
    "\n",
    "Визуализируйте полученную сводную таблицу с помощью тепловой карты с аннотацией.\n",
    "\n",
    "Чему равно количество проданных туров за 60 000 рублей в группах?"
   ]
  },
  {
   "cell_type": "code",
   "execution_count": 11,
   "metadata": {},
   "outputs": [
    {
     "data": {
      "image/png": "[encoded data removed]",
      "text/plain": [
       "<Figure size 864x360 with 2 Axes>"
      ]
     },
     "metadata": {
      "needs_background": "light"
     },
     "output_type": "display_data"
    }
   ],
   "source": [
    "import seaborn as sns\n",
    "import matplotlib.pyplot as plt\n",
    "\n",
    "pivot = updated_data.pivot_table(\n",
    "    values='purchase',\n",
    "    index='group',\n",
    "    columns='price',\n",
    "    aggfunc='sum'\n",
    ")\n",
    "\n",
    "fig = plt.figure(figsize=(12, 5))\n",
    "sns.heatmap(pivot, \n",
    "            annot=True, \n",
    "            fmt=\"d\",\n",
    "            cmap=\"Greens\",\n",
    "            square=True);"
   ]
  },
  {
   "cell_type": "markdown",
   "metadata": {},
   "source": [
    "✍️ Сделайте выводы по построенной таблице. По каким турам покупательская способность участников группы А выше, чем участников группы B, и наоборот?"
   ]
  },
  {
   "cell_type": "markdown",
   "metadata": {},
   "source": [
    ">Вывод: При рассмотрении тепловой карты можно смело сделать вывод, что покупательская способность участников в группе А весьма выше по турам за 60 000 рублей. А в группе В - за 100 000 рублей, что явно подтверждает предыдущий вывод и разница в среднем чеке покупки. По остальным ценовым категориям туров разница несущественна. "
   ]
  },
  {
   "cell_type": "markdown",
   "metadata": {},
   "source": [
    "Задание 7.8\n",
    "\n",
    "Настало время поговорить о стабилизации кумулятивных метрик во времени. Но прежде чем перейти к кумулятивным метрикам, необходимо построить таблицу с ежедневными данными результатов проведения A/B-тестирования.\n",
    "\n",
    "Сгруппируйте данные по дате и группе тестирования. В каждой группе вычислите количество посещений страницы, количество покупок и сумму покупок."
   ]
  },
  {
   "cell_type": "code",
   "execution_count": 12,
   "metadata": {},
   "outputs": [
    {
     "data": {
      "text/html": [
       "<div>\n",
       "<style scoped>\n",
       "    .dataframe tbody tr th:only-of-type {\n",
       "        vertical-align: middle;\n",
       "    }\n",
       "\n",
       "    .dataframe tbody tr th {\n",
       "        vertical-align: top;\n",
       "    }\n",
       "\n",
       "    .dataframe thead th {\n",
       "        text-align: right;\n",
       "    }\n",
       "</style>\n",
       "<table border=\"1\" class=\"dataframe\">\n",
       "  <thead>\n",
       "    <tr style=\"text-align: right;\">\n",
       "      <th></th>\n",
       "      <th>date</th>\n",
       "      <th>group</th>\n",
       "      <th>count_visits</th>\n",
       "      <th>count_purchases</th>\n",
       "      <th>sum_price</th>\n",
       "    </tr>\n",
       "  </thead>\n",
       "  <tbody>\n",
       "    <tr>\n",
       "      <th>0</th>\n",
       "      <td>2021-01-02</td>\n",
       "      <td>A</td>\n",
       "      <td>2854</td>\n",
       "      <td>359</td>\n",
       "      <td>29410000</td>\n",
       "    </tr>\n",
       "    <tr>\n",
       "      <th>1</th>\n",
       "      <td>2021-01-02</td>\n",
       "      <td>B</td>\n",
       "      <td>2861</td>\n",
       "      <td>345</td>\n",
       "      <td>29660000</td>\n",
       "    </tr>\n",
       "    <tr>\n",
       "      <th>2</th>\n",
       "      <td>2021-01-03</td>\n",
       "      <td>A</td>\n",
       "      <td>6596</td>\n",
       "      <td>748</td>\n",
       "      <td>62000000</td>\n",
       "    </tr>\n",
       "    <tr>\n",
       "      <th>3</th>\n",
       "      <td>2021-01-03</td>\n",
       "      <td>B</td>\n",
       "      <td>6619</td>\n",
       "      <td>754</td>\n",
       "      <td>65960000</td>\n",
       "    </tr>\n",
       "    <tr>\n",
       "      <th>4</th>\n",
       "      <td>2021-01-04</td>\n",
       "      <td>A</td>\n",
       "      <td>6566</td>\n",
       "      <td>799</td>\n",
       "      <td>64250000</td>\n",
       "    </tr>\n",
       "  </tbody>\n",
       "</table>\n",
       "</div>"
      ],
      "text/plain": [
       "        date group  count_visits  count_purchases  sum_price\n",
       "0 2021-01-02     A          2854              359   29410000\n",
       "1 2021-01-02     B          2861              345   29660000\n",
       "2 2021-01-03     A          6596              748   62000000\n",
       "3 2021-01-03     B          6619              754   65960000\n",
       "4 2021-01-04     A          6566              799   64250000"
      ]
     },
     "metadata": {},
     "output_type": "display_data"
    }
   ],
   "source": [
    "date_data = updated_data.groupby(['date', 'group']).agg(\n",
    "    count_visits=pd.NamedAgg(column='user_id', aggfunc='count'),\n",
    "    count_purchases=pd.NamedAgg(column='purchase', aggfunc='sum'),\n",
    "    sum_price=pd.NamedAgg(column='price', aggfunc='sum')).reset_index()\n",
    "\n",
    "display(date_data.head())"
   ]
  },
  {
   "cell_type": "markdown",
   "metadata": {},
   "source": [
    "Добавьте в таблицу информацию о ежедневной конверсии (ежедневное количество покупок / ежедневное количество посещений) в группе и ежедневном среднем чеке (ежедневная сумма покупок / ежедневное количество покупок)."
   ]
  },
  {
   "cell_type": "code",
   "execution_count": 13,
   "metadata": {},
   "outputs": [
    {
     "data": {
      "text/html": [
       "<div>\n",
       "<style scoped>\n",
       "    .dataframe tbody tr th:only-of-type {\n",
       "        vertical-align: middle;\n",
       "    }\n",
       "\n",
       "    .dataframe tbody tr th {\n",
       "        vertical-align: top;\n",
       "    }\n",
       "\n",
       "    .dataframe thead th {\n",
       "        text-align: right;\n",
       "    }\n",
       "</style>\n",
       "<table border=\"1\" class=\"dataframe\">\n",
       "  <thead>\n",
       "    <tr style=\"text-align: right;\">\n",
       "      <th></th>\n",
       "      <th>date</th>\n",
       "      <th>group</th>\n",
       "      <th>count_visits</th>\n",
       "      <th>count_purchases</th>\n",
       "      <th>sum_price</th>\n",
       "      <th>conversion</th>\n",
       "      <th>mean_check</th>\n",
       "    </tr>\n",
       "  </thead>\n",
       "  <tbody>\n",
       "    <tr>\n",
       "      <th>0</th>\n",
       "      <td>2021-01-02</td>\n",
       "      <td>A</td>\n",
       "      <td>2854</td>\n",
       "      <td>359</td>\n",
       "      <td>29410000</td>\n",
       "      <td>12.578837</td>\n",
       "      <td>81922.005571</td>\n",
       "    </tr>\n",
       "    <tr>\n",
       "      <th>1</th>\n",
       "      <td>2021-01-02</td>\n",
       "      <td>B</td>\n",
       "      <td>2861</td>\n",
       "      <td>345</td>\n",
       "      <td>29660000</td>\n",
       "      <td>12.058721</td>\n",
       "      <td>85971.014493</td>\n",
       "    </tr>\n",
       "    <tr>\n",
       "      <th>2</th>\n",
       "      <td>2021-01-03</td>\n",
       "      <td>A</td>\n",
       "      <td>6596</td>\n",
       "      <td>748</td>\n",
       "      <td>62000000</td>\n",
       "      <td>11.340206</td>\n",
       "      <td>82887.700535</td>\n",
       "    </tr>\n",
       "    <tr>\n",
       "      <th>3</th>\n",
       "      <td>2021-01-03</td>\n",
       "      <td>B</td>\n",
       "      <td>6619</td>\n",
       "      <td>754</td>\n",
       "      <td>65960000</td>\n",
       "      <td>11.391449</td>\n",
       "      <td>87480.106101</td>\n",
       "    </tr>\n",
       "    <tr>\n",
       "      <th>4</th>\n",
       "      <td>2021-01-04</td>\n",
       "      <td>A</td>\n",
       "      <td>6566</td>\n",
       "      <td>799</td>\n",
       "      <td>64250000</td>\n",
       "      <td>12.168748</td>\n",
       "      <td>80413.016270</td>\n",
       "    </tr>\n",
       "  </tbody>\n",
       "</table>\n",
       "</div>"
      ],
      "text/plain": [
       "        date group  count_visits  count_purchases  sum_price  conversion  \\\n",
       "0 2021-01-02     A          2854              359   29410000   12.578837   \n",
       "1 2021-01-02     B          2861              345   29660000   12.058721   \n",
       "2 2021-01-03     A          6596              748   62000000   11.340206   \n",
       "3 2021-01-03     B          6619              754   65960000   11.391449   \n",
       "4 2021-01-04     A          6566              799   64250000   12.168748   \n",
       "\n",
       "     mean_check  \n",
       "0  81922.005571  \n",
       "1  85971.014493  \n",
       "2  82887.700535  \n",
       "3  87480.106101  \n",
       "4  80413.016270  "
      ]
     },
     "metadata": {},
     "output_type": "display_data"
    }
   ],
   "source": [
    "date_data['conversion'] = date_data['count_purchases'] / date_data['count_visits'] * 100\n",
    "date_data['mean_check'] = date_data['sum_price'] / date_data['count_purchases']\n",
    "\n",
    "display(date_data.head())"
   ]
  },
  {
   "cell_type": "markdown",
   "metadata": {},
   "source": [
    "Чему равна конверсия 3 января 2021 года? Ответ приведите в процентах и округлите до сотых"
   ]
  },
  {
   "cell_type": "code",
   "execution_count": 14,
   "metadata": {},
   "outputs": [
    {
     "data": {
      "text/html": [
       "<div>\n",
       "<style scoped>\n",
       "    .dataframe tbody tr th:only-of-type {\n",
       "        vertical-align: middle;\n",
       "    }\n",
       "\n",
       "    .dataframe tbody tr th {\n",
       "        vertical-align: top;\n",
       "    }\n",
       "\n",
       "    .dataframe thead th {\n",
       "        text-align: right;\n",
       "    }\n",
       "</style>\n",
       "<table border=\"1\" class=\"dataframe\">\n",
       "  <thead>\n",
       "    <tr style=\"text-align: right;\">\n",
       "      <th></th>\n",
       "      <th>group</th>\n",
       "      <th>conversion</th>\n",
       "    </tr>\n",
       "  </thead>\n",
       "  <tbody>\n",
       "    <tr>\n",
       "      <th>2</th>\n",
       "      <td>A</td>\n",
       "      <td>11.34</td>\n",
       "    </tr>\n",
       "    <tr>\n",
       "      <th>3</th>\n",
       "      <td>B</td>\n",
       "      <td>11.39</td>\n",
       "    </tr>\n",
       "  </tbody>\n",
       "</table>\n",
       "</div>"
      ],
      "text/plain": [
       "  group  conversion\n",
       "2     A       11.34\n",
       "3     B       11.39"
      ]
     },
     "execution_count": 14,
     "metadata": {},
     "output_type": "execute_result"
    }
   ],
   "source": [
    "date_data[date_data['date'] == '2021-01-03'].loc[:, ['group', 'conversion']].round(2)"
   ]
  },
  {
   "cell_type": "markdown",
   "metadata": {},
   "source": [
    "Чему равен средний чек 3 января 2021 года? Ответ приведите в рублях и округлите до целого.\n"
   ]
  },
  {
   "cell_type": "code",
   "execution_count": 15,
   "metadata": {},
   "outputs": [
    {
     "data": {
      "text/html": [
       "<div>\n",
       "<style scoped>\n",
       "    .dataframe tbody tr th:only-of-type {\n",
       "        vertical-align: middle;\n",
       "    }\n",
       "\n",
       "    .dataframe tbody tr th {\n",
       "        vertical-align: top;\n",
       "    }\n",
       "\n",
       "    .dataframe thead th {\n",
       "        text-align: right;\n",
       "    }\n",
       "</style>\n",
       "<table border=\"1\" class=\"dataframe\">\n",
       "  <thead>\n",
       "    <tr style=\"text-align: right;\">\n",
       "      <th></th>\n",
       "      <th>group</th>\n",
       "      <th>mean_check</th>\n",
       "    </tr>\n",
       "  </thead>\n",
       "  <tbody>\n",
       "    <tr>\n",
       "      <th>2</th>\n",
       "      <td>A</td>\n",
       "      <td>82888.0</td>\n",
       "    </tr>\n",
       "    <tr>\n",
       "      <th>3</th>\n",
       "      <td>B</td>\n",
       "      <td>87480.0</td>\n",
       "    </tr>\n",
       "  </tbody>\n",
       "</table>\n",
       "</div>"
      ],
      "text/plain": [
       "  group  mean_check\n",
       "2     A     82888.0\n",
       "3     B     87480.0"
      ]
     },
     "execution_count": 15,
     "metadata": {},
     "output_type": "execute_result"
    }
   ],
   "source": [
    "date_data[date_data['date'] == '2021-01-03'].loc[:, ['group', 'mean_check']].round()"
   ]
  },
  {
   "cell_type": "markdown",
   "metadata": {},
   "source": [
    "Задание 7.9\n",
    "\n",
    "Добавьте в таблицу с ежедневными показателями кумулятивные признаки:\n",
    "\n",
    "* кумулятивное количество посещений страницы;\n",
    "* кумулятивное количество покупок;\n",
    "* кумулятивную сумму покупок.\n",
    "\n",
    "Не забудьте при расчёте кумулятивной суммы сгруппировать данные по группам.\n"
   ]
  },
  {
   "cell_type": "code",
   "execution_count": 16,
   "metadata": {},
   "outputs": [
    {
     "data": {
      "text/html": [
       "<div>\n",
       "<style scoped>\n",
       "    .dataframe tbody tr th:only-of-type {\n",
       "        vertical-align: middle;\n",
       "    }\n",
       "\n",
       "    .dataframe tbody tr th {\n",
       "        vertical-align: top;\n",
       "    }\n",
       "\n",
       "    .dataframe thead th {\n",
       "        text-align: right;\n",
       "    }\n",
       "</style>\n",
       "<table border=\"1\" class=\"dataframe\">\n",
       "  <thead>\n",
       "    <tr style=\"text-align: right;\">\n",
       "      <th></th>\n",
       "      <th>date</th>\n",
       "      <th>group</th>\n",
       "      <th>count_visits</th>\n",
       "      <th>count_purchases</th>\n",
       "      <th>sum_price</th>\n",
       "      <th>conversion</th>\n",
       "      <th>mean_check</th>\n",
       "      <th>cum_count_visits</th>\n",
       "      <th>cum_count_purchases</th>\n",
       "      <th>cum_sum_price</th>\n",
       "    </tr>\n",
       "  </thead>\n",
       "  <tbody>\n",
       "    <tr>\n",
       "      <th>0</th>\n",
       "      <td>2021-01-02</td>\n",
       "      <td>A</td>\n",
       "      <td>2854</td>\n",
       "      <td>359</td>\n",
       "      <td>29410000</td>\n",
       "      <td>12.578837</td>\n",
       "      <td>81922.005571</td>\n",
       "      <td>2854</td>\n",
       "      <td>359</td>\n",
       "      <td>29410000</td>\n",
       "    </tr>\n",
       "    <tr>\n",
       "      <th>1</th>\n",
       "      <td>2021-01-02</td>\n",
       "      <td>B</td>\n",
       "      <td>2861</td>\n",
       "      <td>345</td>\n",
       "      <td>29660000</td>\n",
       "      <td>12.058721</td>\n",
       "      <td>85971.014493</td>\n",
       "      <td>2861</td>\n",
       "      <td>345</td>\n",
       "      <td>29660000</td>\n",
       "    </tr>\n",
       "    <tr>\n",
       "      <th>2</th>\n",
       "      <td>2021-01-03</td>\n",
       "      <td>A</td>\n",
       "      <td>6596</td>\n",
       "      <td>748</td>\n",
       "      <td>62000000</td>\n",
       "      <td>11.340206</td>\n",
       "      <td>82887.700535</td>\n",
       "      <td>9450</td>\n",
       "      <td>1107</td>\n",
       "      <td>91410000</td>\n",
       "    </tr>\n",
       "    <tr>\n",
       "      <th>3</th>\n",
       "      <td>2021-01-03</td>\n",
       "      <td>B</td>\n",
       "      <td>6619</td>\n",
       "      <td>754</td>\n",
       "      <td>65960000</td>\n",
       "      <td>11.391449</td>\n",
       "      <td>87480.106101</td>\n",
       "      <td>9480</td>\n",
       "      <td>1099</td>\n",
       "      <td>95620000</td>\n",
       "    </tr>\n",
       "    <tr>\n",
       "      <th>4</th>\n",
       "      <td>2021-01-04</td>\n",
       "      <td>A</td>\n",
       "      <td>6566</td>\n",
       "      <td>799</td>\n",
       "      <td>64250000</td>\n",
       "      <td>12.168748</td>\n",
       "      <td>80413.016270</td>\n",
       "      <td>16016</td>\n",
       "      <td>1906</td>\n",
       "      <td>155660000</td>\n",
       "    </tr>\n",
       "  </tbody>\n",
       "</table>\n",
       "</div>"
      ],
      "text/plain": [
       "        date group  count_visits  count_purchases  sum_price  conversion  \\\n",
       "0 2021-01-02     A          2854              359   29410000   12.578837   \n",
       "1 2021-01-02     B          2861              345   29660000   12.058721   \n",
       "2 2021-01-03     A          6596              748   62000000   11.340206   \n",
       "3 2021-01-03     B          6619              754   65960000   11.391449   \n",
       "4 2021-01-04     A          6566              799   64250000   12.168748   \n",
       "\n",
       "     mean_check  cum_count_visits  cum_count_purchases  cum_sum_price  \n",
       "0  81922.005571              2854                  359       29410000  \n",
       "1  85971.014493              2861                  345       29660000  \n",
       "2  82887.700535              9450                 1107       91410000  \n",
       "3  87480.106101              9480                 1099       95620000  \n",
       "4  80413.016270             16016                 1906      155660000  "
      ]
     },
     "execution_count": 16,
     "metadata": {},
     "output_type": "execute_result"
    }
   ],
   "source": [
    "date_data['cum_count_visits'] = date_data.groupby(['group'])['count_visits'].cumsum()\n",
    "date_data['cum_count_purchases'] = date_data.groupby(['group'])['count_purchases'].cumsum()\n",
    "date_data['cum_sum_price'] = date_data.groupby(['group'])['sum_price'].cumsum()\n",
    "\n",
    "date_data.head()"
   ]
  },
  {
   "cell_type": "markdown",
   "metadata": {},
   "source": [
    "\n",
    "Вычислите кумулятивную конверсию и кумулятивный средний чек на основе полученных кумулятивных показателей.\n"
   ]
  },
  {
   "cell_type": "code",
   "execution_count": 17,
   "metadata": {},
   "outputs": [
    {
     "data": {
      "text/html": [
       "<div>\n",
       "<style scoped>\n",
       "    .dataframe tbody tr th:only-of-type {\n",
       "        vertical-align: middle;\n",
       "    }\n",
       "\n",
       "    .dataframe tbody tr th {\n",
       "        vertical-align: top;\n",
       "    }\n",
       "\n",
       "    .dataframe thead th {\n",
       "        text-align: right;\n",
       "    }\n",
       "</style>\n",
       "<table border=\"1\" class=\"dataframe\">\n",
       "  <thead>\n",
       "    <tr style=\"text-align: right;\">\n",
       "      <th></th>\n",
       "      <th>date</th>\n",
       "      <th>group</th>\n",
       "      <th>count_visits</th>\n",
       "      <th>count_purchases</th>\n",
       "      <th>sum_price</th>\n",
       "      <th>conversion</th>\n",
       "      <th>mean_check</th>\n",
       "      <th>cum_count_visits</th>\n",
       "      <th>cum_count_purchases</th>\n",
       "      <th>cum_sum_price</th>\n",
       "      <th>cum_conversion</th>\n",
       "      <th>cum_mean_check</th>\n",
       "    </tr>\n",
       "  </thead>\n",
       "  <tbody>\n",
       "    <tr>\n",
       "      <th>0</th>\n",
       "      <td>2021-01-02</td>\n",
       "      <td>A</td>\n",
       "      <td>2854</td>\n",
       "      <td>359</td>\n",
       "      <td>29410000</td>\n",
       "      <td>12.578837</td>\n",
       "      <td>81922.005571</td>\n",
       "      <td>2854</td>\n",
       "      <td>359</td>\n",
       "      <td>29410000</td>\n",
       "      <td>12.578837</td>\n",
       "      <td>81922.005571</td>\n",
       "    </tr>\n",
       "    <tr>\n",
       "      <th>1</th>\n",
       "      <td>2021-01-02</td>\n",
       "      <td>B</td>\n",
       "      <td>2861</td>\n",
       "      <td>345</td>\n",
       "      <td>29660000</td>\n",
       "      <td>12.058721</td>\n",
       "      <td>85971.014493</td>\n",
       "      <td>2861</td>\n",
       "      <td>345</td>\n",
       "      <td>29660000</td>\n",
       "      <td>12.058721</td>\n",
       "      <td>85971.014493</td>\n",
       "    </tr>\n",
       "    <tr>\n",
       "      <th>2</th>\n",
       "      <td>2021-01-03</td>\n",
       "      <td>A</td>\n",
       "      <td>6596</td>\n",
       "      <td>748</td>\n",
       "      <td>62000000</td>\n",
       "      <td>11.340206</td>\n",
       "      <td>82887.700535</td>\n",
       "      <td>9450</td>\n",
       "      <td>1107</td>\n",
       "      <td>91410000</td>\n",
       "      <td>11.714286</td>\n",
       "      <td>82574.525745</td>\n",
       "    </tr>\n",
       "    <tr>\n",
       "      <th>3</th>\n",
       "      <td>2021-01-03</td>\n",
       "      <td>B</td>\n",
       "      <td>6619</td>\n",
       "      <td>754</td>\n",
       "      <td>65960000</td>\n",
       "      <td>11.391449</td>\n",
       "      <td>87480.106101</td>\n",
       "      <td>9480</td>\n",
       "      <td>1099</td>\n",
       "      <td>95620000</td>\n",
       "      <td>11.592827</td>\n",
       "      <td>87006.369427</td>\n",
       "    </tr>\n",
       "    <tr>\n",
       "      <th>4</th>\n",
       "      <td>2021-01-04</td>\n",
       "      <td>A</td>\n",
       "      <td>6566</td>\n",
       "      <td>799</td>\n",
       "      <td>64250000</td>\n",
       "      <td>12.168748</td>\n",
       "      <td>80413.016270</td>\n",
       "      <td>16016</td>\n",
       "      <td>1906</td>\n",
       "      <td>155660000</td>\n",
       "      <td>11.900599</td>\n",
       "      <td>81668.415530</td>\n",
       "    </tr>\n",
       "  </tbody>\n",
       "</table>\n",
       "</div>"
      ],
      "text/plain": [
       "        date group  count_visits  count_purchases  sum_price  conversion  \\\n",
       "0 2021-01-02     A          2854              359   29410000   12.578837   \n",
       "1 2021-01-02     B          2861              345   29660000   12.058721   \n",
       "2 2021-01-03     A          6596              748   62000000   11.340206   \n",
       "3 2021-01-03     B          6619              754   65960000   11.391449   \n",
       "4 2021-01-04     A          6566              799   64250000   12.168748   \n",
       "\n",
       "     mean_check  cum_count_visits  cum_count_purchases  cum_sum_price  \\\n",
       "0  81922.005571              2854                  359       29410000   \n",
       "1  85971.014493              2861                  345       29660000   \n",
       "2  82887.700535              9450                 1107       91410000   \n",
       "3  87480.106101              9480                 1099       95620000   \n",
       "4  80413.016270             16016                 1906      155660000   \n",
       "\n",
       "   cum_conversion  cum_mean_check  \n",
       "0       12.578837    81922.005571  \n",
       "1       12.058721    85971.014493  \n",
       "2       11.714286    82574.525745  \n",
       "3       11.592827    87006.369427  \n",
       "4       11.900599    81668.415530  "
      ]
     },
     "execution_count": 17,
     "metadata": {},
     "output_type": "execute_result"
    }
   ],
   "source": [
    "date_data['cum_conversion'] = date_data['cum_count_purchases']/date_data['cum_count_visits'] * 100\n",
    "date_data['cum_mean_check'] = date_data['cum_sum_price']/date_data['cum_count_purchases']\n",
    "date_data.head()"
   ]
  },
  {
   "cell_type": "markdown",
   "metadata": {},
   "source": [
    "\n",
    "Какая кумулятивная конверсия была в группе B на 20 января 2021 года? Ответ приведите в процентах, округлив до сотых.\n"
   ]
  },
  {
   "cell_type": "code",
   "execution_count": 18,
   "metadata": {},
   "outputs": [
    {
     "data": {
      "text/html": [
       "<div>\n",
       "<style scoped>\n",
       "    .dataframe tbody tr th:only-of-type {\n",
       "        vertical-align: middle;\n",
       "    }\n",
       "\n",
       "    .dataframe tbody tr th {\n",
       "        vertical-align: top;\n",
       "    }\n",
       "\n",
       "    .dataframe thead th {\n",
       "        text-align: right;\n",
       "    }\n",
       "</style>\n",
       "<table border=\"1\" class=\"dataframe\">\n",
       "  <thead>\n",
       "    <tr style=\"text-align: right;\">\n",
       "      <th></th>\n",
       "      <th>group</th>\n",
       "      <th>cum_conversion</th>\n",
       "    </tr>\n",
       "  </thead>\n",
       "  <tbody>\n",
       "    <tr>\n",
       "      <th>36</th>\n",
       "      <td>A</td>\n",
       "      <td>11.98</td>\n",
       "    </tr>\n",
       "    <tr>\n",
       "      <th>37</th>\n",
       "      <td>B</td>\n",
       "      <td>11.90</td>\n",
       "    </tr>\n",
       "  </tbody>\n",
       "</table>\n",
       "</div>"
      ],
      "text/plain": [
       "   group  cum_conversion\n",
       "36     A           11.98\n",
       "37     B           11.90"
      ]
     },
     "execution_count": 18,
     "metadata": {},
     "output_type": "execute_result"
    }
   ],
   "source": [
    "date_data[date_data['date'] == '2021-01-20'].loc[:, ['group', 'cum_conversion']].round(2)"
   ]
  },
  {
   "cell_type": "markdown",
   "metadata": {},
   "source": [
    "\n",
    "Какой кумулятивный средний чек был в группе А на 12 января 2021 года? Ответ приведите в рублях, округлив до целых.\n"
   ]
  },
  {
   "cell_type": "code",
   "execution_count": 19,
   "metadata": {},
   "outputs": [
    {
     "data": {
      "text/html": [
       "<div>\n",
       "<style scoped>\n",
       "    .dataframe tbody tr th:only-of-type {\n",
       "        vertical-align: middle;\n",
       "    }\n",
       "\n",
       "    .dataframe tbody tr th {\n",
       "        vertical-align: top;\n",
       "    }\n",
       "\n",
       "    .dataframe thead th {\n",
       "        text-align: right;\n",
       "    }\n",
       "</style>\n",
       "<table border=\"1\" class=\"dataframe\">\n",
       "  <thead>\n",
       "    <tr style=\"text-align: right;\">\n",
       "      <th></th>\n",
       "      <th>group</th>\n",
       "      <th>cum_mean_check</th>\n",
       "    </tr>\n",
       "  </thead>\n",
       "  <tbody>\n",
       "    <tr>\n",
       "      <th>20</th>\n",
       "      <td>A</td>\n",
       "      <td>81492.0</td>\n",
       "    </tr>\n",
       "    <tr>\n",
       "      <th>21</th>\n",
       "      <td>B</td>\n",
       "      <td>88352.0</td>\n",
       "    </tr>\n",
       "  </tbody>\n",
       "</table>\n",
       "</div>"
      ],
      "text/plain": [
       "   group  cum_mean_check\n",
       "20     A         81492.0\n",
       "21     B         88352.0"
      ]
     },
     "execution_count": 19,
     "metadata": {},
     "output_type": "execute_result"
    }
   ],
   "source": [
    "date_data[date_data['date'] == '2021-01-12'].loc[:, ['group', 'cum_mean_check']].round(0)"
   ]
  },
  {
   "cell_type": "markdown",
   "metadata": {},
   "source": [
    "\n",
    " \n",
    "✍️ Постройте кумулятивные графики конверсии и среднего чека в каждой группе по дням. Сделайте выводы. Можно ли назвать A/B-тест завершённым — стабилизировались ли значения метрик во времени? Как соотносятся кумулятивные показатели в каждой группе?"
   ]
  },
  {
   "cell_type": "code",
   "execution_count": 40,
   "metadata": {},
   "outputs": [
    {
     "data": {
      "image/png": "[encoded data removed]",
      "text/plain": [
       "<Figure size 576x288 with 1 Axes>"
      ]
     },
     "metadata": {
      "needs_background": "light"
     },
     "output_type": "display_data"
    }
   ],
   "source": [
    "fig = plt.figure(figsize=(8, 4))\n",
    "ax = fig.add_axes([1, 1, 1, 1])\n",
    "sns.lineplot(x='date', y='cum_conversion', data=date_data, hue='group', ax=ax)\n",
    "ax.set_title('График кумулятивной конверсии по дням')\n",
    "ax.xaxis.set_tick_params(rotation = 45)\n",
    "ax.set_xticks(date_data['date'])\n",
    "ax.grid(True);"
   ]
  },
  {
   "cell_type": "markdown",
   "metadata": {},
   "source": [
    ">Вывод: Начиная с 10-го января 2021 года группы имеют похожую тенденцию роста и спада уровня конверсии. До этого периода показатель вел себя противоположно. В группе А конверсия посещений в покупку постоянно выше кроме 9-го января 2021 года. Данные стабилизированы."
   ]
  },
  {
   "cell_type": "code",
   "execution_count": 41,
   "metadata": {},
   "outputs": [
    {
     "data": {
      "image/png": "[encoded data removed]",
      "text/plain": [
       "<Figure size 576x288 with 1 Axes>"
      ]
     },
     "metadata": {
      "needs_background": "light"
     },
     "output_type": "display_data"
    }
   ],
   "source": [
    "fig = plt.figure(figsize=(8, 4))\n",
    "ax = fig.add_axes([1, 1, 1, 1])\n",
    "sns.lineplot(x='date', y='cum_mean_check', data=date_data, hue='group', ax=ax)\n",
    "ax.set_title('График кумулятивного среднего чека по дням')\n",
    "ax.xaxis.set_tick_params(rotation = 45)\n",
    "ax.set_xticks(date_data['date'])\n",
    "ax.grid(True);"
   ]
  },
  {
   "cell_type": "markdown",
   "metadata": {},
   "source": [
    ">Вывод: За весь период сбора данных у пользователей посетивших вариант посадочной страницы В средний чек стабильно выше, чем у группы А. Данные стабилизированы."
   ]
  },
  {
   "cell_type": "markdown",
   "metadata": {},
   "source": [
    "Задание 7.10\n",
    "\n",
    "Настало время переходить к проверке статистической значимости разницы между метриками в группах. Начнём с конверсии.\n",
    "Какой тест вы примените для проверки гипотезы о равенстве конверсий в группах?\n"
   ]
  },
  {
   "cell_type": "markdown",
   "metadata": {},
   "source": [
    ">Выполним тесты на нормальность распределения по методу Д'Агостино так, как число наблюдений больше 20."
   ]
  },
  {
   "cell_type": "code",
   "execution_count": 22,
   "metadata": {},
   "outputs": [
    {
     "name": "stdout",
     "output_type": "stream",
     "text": [
      "p для группы А =0.629\n",
      "p для группы B =0.907\n",
      "Данные распределены нормально\n"
     ]
    }
   ],
   "source": [
    "from scipy.stats import normaltest\n",
    "\n",
    "_, p_a = normaltest(date_data[date_data['group'] == 'A']['conversion'])\n",
    "_, p_b = normaltest(date_data[date_data['group'] == 'B']['conversion'])\n",
    "print('p для группы А =%.3f\\np для группы B =%.3f' % (p_a, p_b))\n",
    "\n",
    "H0 = 'Данные распределены нормально'\n",
    "Ha = 'Данные не распределены нормально (мы отвергаем H0)'\n",
    "alpha = 0.05\n",
    "\n",
    "if p_a < alpha/2 or p_b < alpha/2:\n",
    "\tprint(Ha)\n",
    "else:\n",
    "\tprint(H0)"
   ]
  },
  {
   "cell_type": "markdown",
   "metadata": {},
   "source": [
    ">Данные конверсии распределенные нормально, переменная количественная, поэтому выберем параметрический тест на сравнение выборки двух групп, а именно Z-тест. Конверсия является долевым показателем. Для проверки гипотезы о равенстве долей (пропорций) используется Z-тест для пропорций."
   ]
  },
  {
   "cell_type": "markdown",
   "metadata": {},
   "source": [
    "\n",
    "Проведите тестирование при следующих нулевой и альтернативной гипотезе:\n",
    "\n",
    "* H0: Конверсии в группах А и B равны;\n",
    "* Ha: Конверсия в группе А больше, чем конверсия в группе B.\n",
    "\n",
    "Вычислите p value вашего теста для конверсий в группах А и B. Сравните полученное значение с уровнем значимости alpha = 0.05.\n"
   ]
  },
  {
   "cell_type": "code",
   "execution_count": 23,
   "metadata": {},
   "outputs": [
    {
     "data": {
      "text/html": [
       "<div>\n",
       "<style scoped>\n",
       "    .dataframe tbody tr th:only-of-type {\n",
       "        vertical-align: middle;\n",
       "    }\n",
       "\n",
       "    .dataframe tbody tr th {\n",
       "        vertical-align: top;\n",
       "    }\n",
       "\n",
       "    .dataframe thead th {\n",
       "        text-align: right;\n",
       "    }\n",
       "</style>\n",
       "<table border=\"1\" class=\"dataframe\">\n",
       "  <thead>\n",
       "    <tr style=\"text-align: right;\">\n",
       "      <th></th>\n",
       "      <th>group</th>\n",
       "      <th>count_visits</th>\n",
       "      <th>count_purchases</th>\n",
       "    </tr>\n",
       "  </thead>\n",
       "  <tbody>\n",
       "    <tr>\n",
       "      <th>0</th>\n",
       "      <td>A</td>\n",
       "      <td>145307</td>\n",
       "      <td>17487</td>\n",
       "    </tr>\n",
       "    <tr>\n",
       "      <th>1</th>\n",
       "      <td>B</td>\n",
       "      <td>145381</td>\n",
       "      <td>17290</td>\n",
       "    </tr>\n",
       "  </tbody>\n",
       "</table>\n",
       "</div>"
      ],
      "text/plain": [
       "  group  count_visits  count_purchases\n",
       "0     A        145307            17487\n",
       "1     B        145381            17290"
      ]
     },
     "metadata": {},
     "output_type": "display_data"
    }
   ],
   "source": [
    "data_piv= date_data.groupby('group').agg({\n",
    "    'count_visits':'sum',\n",
    "    'count_purchases':'sum'\n",
    "}).reset_index()\n",
    "display(data_piv)"
   ]
  },
  {
   "cell_type": "code",
   "execution_count": 24,
   "metadata": {},
   "outputs": [
    {
     "name": "stdout",
     "output_type": "stream",
     "text": [
      "p-value:  0.12\n",
      "Принимаем нулевую гипотезу. Конверсии в группах А и B равны. p > alpha\n"
     ]
    }
   ],
   "source": [
    "from statsmodels.stats.proportion import proportions_ztest\n",
    "\n",
    "\n",
    "H0 = 'Конверсии в группах А и B равны'\n",
    "H1 = 'Конверсия в группе А больше, чем конверсия в группе B'\n",
    "alpha = 0.05 \n",
    "\n",
    "_, p_value = proportions_ztest(\n",
    "    count=data_piv['count_purchases'], \n",
    "    nobs=data_piv['count_visits'], \n",
    "    alternative='larger'\n",
    ")\n",
    "\n",
    "print('p-value: ', round(p_value, 2))\n",
    "\n",
    "if (p_value < alpha): \n",
    "    print(\"Отвергаем нулевую гипотезу. Альтернативная гипотеза. H1: {}. p < alpha\".format(H1))\n",
    "else:\n",
    "    print(\"Принимаем нулевую гипотезу. {}. p > alpha\".format(H0))\n"
   ]
  },
  {
   "cell_type": "markdown",
   "metadata": {},
   "source": [
    "\n",
    "✍️ Приведите свои выводы по результатам проведённого статистического теста. Есть ли статистическая разница между конверсиями в группах А и B?"
   ]
  },
  {
   "cell_type": "markdown",
   "metadata": {},
   "source": [
    ">Вывод: Осуществив проверку статистической значимости разницы между метриками конверсии в обеих группах мы подтвердили нулевую гипотезу, что конверсии в группах А и Б равны. Разница в истинных значения в группах не значима."
   ]
  },
  {
   "cell_type": "markdown",
   "metadata": {},
   "source": [
    "Задание 7.11\n",
    "\n",
    "Убедитесь в своих рассуждениях, построив 95%-ый доверительный интервал для конверсий и разницы между ними. Используйте Z крит в своих расчётах.\n",
    "\n",
    "Укажите нижнюю и верхнюю границы доверительных интервалов. Все границы приведите в процентах и округлите до второго знака после запятой. "
   ]
  },
  {
   "cell_type": "markdown",
   "metadata": {},
   "source": [
    "Доверительный интервал для конверсии в группах:"
   ]
  },
  {
   "cell_type": "code",
   "execution_count": 25,
   "metadata": {},
   "outputs": [
    {
     "name": "stdout",
     "output_type": "stream",
     "text": [
      "Доверительный интервал для конверсии группы А: (11.87, 12.2)\n",
      "Доверительный интервал для конверсии группы B: (11.73, 12.06)\n"
     ]
    }
   ],
   "source": [
    "from scipy.stats import norm\n",
    "\n",
    "def proportions_conf_interval(n, x_p, gamma=0.95):   \n",
    "    alpha = 1 - gamma \n",
    "    z_crit = -norm.ppf(alpha/2) \n",
    "    eps = z_crit * (x_p * (1 - x_p) / n) ** 0.5 \n",
    "    lower_bound = x_p - eps \n",
    "    upper_bound = x_p + eps\n",
    "    return round(lower_bound * 100, 2), round(upper_bound * 100, 2)\n",
    "\n",
    "conf_interval_a = proportions_conf_interval(\n",
    "    n=updated_data[updated_data['group'] == 'A']['purchase'].count(), \n",
    "    x_p=updated_data[updated_data['group'] == 'A']['purchase'].mean()\n",
    ")\n",
    "                                                                                                                        \n",
    "conf_interval_b = proportions_conf_interval(\n",
    "    n=updated_data[updated_data['group'] == 'B']['purchase'].count(), \n",
    "    x_p=updated_data[updated_data['group'] == 'B']['purchase'].mean()\n",
    ")\n",
    "\n",
    "print('Доверительный интервал для конверсии группы А: {}'.format(conf_interval_a))\n",
    "print('Доверительный интервал для конверсии группы B: {}'.format(conf_interval_b))"
   ]
  },
  {
   "cell_type": "markdown",
   "metadata": {},
   "source": [
    "Доверительный интервал для разницы конверсии в группах:"
   ]
  },
  {
   "cell_type": "code",
   "execution_count": 26,
   "metadata": {},
   "outputs": [
    {
     "name": "stdout",
     "output_type": "stream",
     "text": [
      "Доверительный интервал для разности конверсий: (-0.38, 0.09)\n"
     ]
    }
   ],
   "source": [
    "def diff_proportions_conf_interval(n, xp, gamma=0.95):\n",
    "    alpha = 1 - gamma\n",
    "    diff = xp[1] - xp[0]\n",
    "    z_crit = -norm.ppf(alpha/2)\n",
    "    eps = z_crit * (xp[0] * (1 - xp[0])/n[0] + xp[1] * (1 - xp[1])/n[1]) ** 0.5 \n",
    "    lower_bound = diff - eps \n",
    "    upper_bound = diff + eps \n",
    "    return round(lower_bound *100, 2), round(upper_bound * 100, 2)\n",
    "\n",
    "\n",
    "a_data = updated_data[updated_data['group'] == 'A']\n",
    "b_data = updated_data[updated_data['group'] == 'B']\n",
    "\n",
    "n = [a_data['purchase'].count(), b_data['purchase'].count()]\n",
    "xp = [a_data['purchase'].mean(), b_data['purchase'].mean()]\n",
    "\n",
    "diff_inverval = diff_proportions_conf_interval(n, xp)\n",
    "print('Доверительный интервал для разности конверсий: {}'.format(diff_inverval))\n",
    " \n"
   ]
  },
  {
   "cell_type": "markdown",
   "metadata": {},
   "source": [
    "\n",
    "✍️ Проинтерпретируйте построенные доверительные интервалы для конверсий в группах. Есть ли перекрытие между доверительными интервалами для групп? Есть ли статистическая разница между конверсиями в группах А и B?"
   ]
  },
  {
   "cell_type": "markdown",
   "metadata": {},
   "source": [
    ">Вывод: \n",
    "Можно сделать вывод, что с надёжностью в 95 % конверсия группы А лежит в интервале от 11.87% до 12.2%, а конверсия группы B лежит в интервале от 11.73% до 12.06%.\n",
    "Построенный доверительный интервал разницы пропорций с 95%-ой надёжностью говорит нам, что разница в конверсии между вариантом B и вариантом А лежит в интервале от -0.38% до 0.09%. "
   ]
  },
  {
   "cell_type": "markdown",
   "metadata": {},
   "source": [
    "Задание 7.12\n",
    "\n",
    "Ранее мы построили таблицу с ежедневными показателями. Теперь она нам снова понадобится, так как нас интересует ежедневный средний чек.\n",
    "Проверьте гипотезу о нормальности распределения ежедневного среднего чека в каждой из групп тестирования.\n",
    "Какой тест вы примените для проверки гипотезы о нормальности распределения ежедневного среднего чека?"
   ]
  },
  {
   "cell_type": "code",
   "execution_count": 27,
   "metadata": {},
   "outputs": [
    {
     "name": "stdout",
     "output_type": "stream",
     "text": [
      "p-value группы А 0.25\n",
      "p-value группы B 0.09\n",
      "Принимаем нулевую гипотезу. Распределения в обеих группах нормальные\n"
     ]
    }
   ],
   "source": [
    "from scipy.stats import shapiro\n",
    "\n",
    "H0 = 'Распределения в обеих группах нормальные'\n",
    "H1 = 'Распределение в одной или обеих группах отлично от нормального'\n",
    "alpha = 0.05\n",
    "\n",
    "shapiro_result_a = shapiro(date_data[date_data['group'] == 'A']['mean_check'])\n",
    "shapiro_result_b = shapiro(date_data[date_data['group'] == 'B']['mean_check'])\n",
    "print('p-value группы А', round(shapiro_result_a.pvalue, 2))\n",
    "print('p-value группы B', round(shapiro_result_b.pvalue, 2))\n",
    "\n",
    "if shapiro_result_a.pvalue < alpha or shapiro_result_b.pvalue < alpha:\n",
    "    print(\"Отвергаем нулевую гипотезу. Альтернативная гипотеза. H1: {}\".format(H1))\n",
    "else:\n",
    "    print(\"Принимаем нулевую гипотезу. {}\".format(H0))"
   ]
  },
  {
   "cell_type": "markdown",
   "metadata": {},
   "source": [
    "Задание 7.13\n",
    "\n",
    "Настало время сравнить варианты дизайна страницы по метрике среднего чека.\n",
    "\n",
    "Какой тест вы примените для проверки гипотезы о равенстве средних чеков по дням в группах?"
   ]
  },
  {
   "cell_type": "code",
   "execution_count": 28,
   "metadata": {},
   "outputs": [
    {
     "name": "stdout",
     "output_type": "stream",
     "text": [
      "p-value: 0.0\n",
      "Отвергаем нулевую гипотезу. Альтернативная гипотеза. H1: Средний ежедневный чек в группе А меньше, чем в группе B\n"
     ]
    }
   ],
   "source": [
    "from scipy.stats import ttest_ind\n",
    "\n",
    "H0 = 'Средний ежедневный чек в группах А и B равны'\n",
    "H1 = 'Средний ежедневный чек в группе А меньше, чем в группе B'\n",
    "\n",
    "alpha = 0.05\n",
    "\n",
    "    \n",
    "results = ttest_ind(\n",
    "    a=date_data[date_data['group'] == 'A']['mean_check'],\n",
    "    b=date_data[date_data['group'] == 'B']['mean_check'], \n",
    "    alternative='less'\n",
    "\n",
    ")\n",
    "print('p-value:', round(results.pvalue, 2))\n",
    " \n",
    "if results.pvalue < alpha:\n",
    "    print(\"Отвергаем нулевую гипотезу. Альтернативная гипотеза. H1: {}\".format(H1))\n",
    "else:\n",
    "    print(\"Принимаем нулевую гипотезу. {}\".format(H0))\n"
   ]
  },
  {
   "cell_type": "markdown",
   "metadata": {},
   "source": [
    "✍️ Приведите свои выводы по результатам проведённого статистического теста. Есть ли статистическая разница между ежедневными средними чеками в группах А и B?"
   ]
  },
  {
   "cell_type": "markdown",
   "metadata": {},
   "source": [
    ">Вывод:\n",
    "По результатам статистического теста мы подтвердили альтернативную гипотезу и предыдущие выводы, что ежедневный средний чек в группе А меньше, чем в группе B. И эта разница имеет статистическую значимость для нашего исследования."
   ]
  },
  {
   "cell_type": "markdown",
   "metadata": {},
   "source": [
    "Задание 7.14\n",
    "\n",
    "Постройте 95 %-ый доверительный интервал для среднего чека в каждой группе. Так как выборка ежедневных средних чеков небольшая, используйте T крит в своих расчётах.\n",
    "\n",
    "Укажите нижнюю и верхнюю границы доверительного интервала для истинного среднего чека каждой из групп. Ответ округлите до целого."
   ]
  },
  {
   "cell_type": "code",
   "execution_count": 29,
   "metadata": {},
   "outputs": [
    {
     "name": "stdout",
     "output_type": "stream",
     "text": [
      "Доверительный интервал для среднего чека группы А: (79630, 82308)\n",
      "Доверительный интервал для среднего чека группы B: (87626, 89526)\n"
     ]
    }
   ],
   "source": [
    "from scipy.stats import t\n",
    "\n",
    "def conf_interval(n, x_std, x_mean, gamma=0.95):   \n",
    "    alpha = 1 - gamma \n",
    "    k = n - 1\n",
    "    t_crit = -t.ppf(alpha/2, k) \n",
    "    eps = t_crit * x_std/(n ** 0.5) \n",
    "    lower_bound = x_mean - eps \n",
    "    upper_bound = x_mean + eps \n",
    "    return round(lower_bound), round(upper_bound)\n",
    "\n",
    "conf_interval_a = conf_interval(\n",
    "    n=date_data[date_data['group'] == 'A']['mean_check'].count(), \n",
    "    x_mean=date_data[date_data['group'] == 'A']['mean_check'].mean(),\n",
    "    x_std=date_data[date_data['group'] == 'A']['mean_check'].std()\n",
    ")\n",
    "                                                                                                                        \n",
    "conf_interval_b = conf_interval(\n",
    "    n=date_data[date_data['group'] == 'B']['mean_check'].count(), \n",
    "    x_mean=date_data[date_data['group'] == 'B']['mean_check'].mean(),\n",
    "    x_std=date_data[date_data['group'] == 'B']['mean_check'].std()\n",
    ")\n",
    "\n",
    "print('Доверительный интервал для среднего чека группы А: {}'.format(conf_interval_a))\n",
    "print('Доверительный интервал для среднего чека группы B: {}'.format(conf_interval_b))"
   ]
  },
  {
   "cell_type": "markdown",
   "metadata": {},
   "source": [
    "✍️ Проинтерпретируйте построенные доверительные интервалы для ежедневных средних чеков в группах. Есть ли между ними пересечения? О чём это говорит?"
   ]
  },
  {
   "cell_type": "markdown",
   "metadata": {},
   "source": [
    ">Вывод:\n",
    "Доверительные интервалы в группах имеют существенную разницу, не пересекаются и соответствуют гипотезе, что средний чек группы В больше, чем в группе А. Доверительный интервал для среднего чека группы B выше по метрике, но является более узким, чем группы А. "
   ]
  },
  {
   "cell_type": "markdown",
   "metadata": {},
   "source": [
    "⭐️ Сделайте общий вывод по результатам A/B-теста. Какой варианта дизайна посадочной страницы является более эффективным в комплексе по метрикам конверсии и среднего чека и почему? "
   ]
  },
  {
   "cell_type": "markdown",
   "metadata": {},
   "source": [
    ">\n",
    ">После исследованная структуры данных было проведено преобразование даты. При выполнении тестирования мы исключили влияние пользователей посетивших оба варианта, для данного исследования били использовано достаточное количество данных и использованы все современные инструменты для анализа. Была проведена визуальная оценка и сделаны первичные выводы. После расчета кумулятивных метрик и уверенности их стабилизации были проведены статистические тесты и определены доверительные интервалы. \n",
    ">\n",
    ">По результатам A/B-теста более эффективным вариантом дизайна посадочной страницы является группа В. Это вывод был сделан в комплексе метрик, но по оценке среднего чека так, как разница в показателе конверсии не имеет статистической значимости в данном случае. Это было заметно на начальной стадии визуального анализа по сумме покупок тура. Так же присутствует существительная разница в показателях для различных ценовых категорий по турам, что нужно учитывать при выборе дизайна посадочной страницы."
   ]
  }
 ],
 "metadata": {
  "kernelspec": {
   "display_name": "Python 3.9.7 ('base')",
   "language": "python",
   "name": "python3"
  },
  "language_info": {
   "codemirror_mode": {
    "name": "ipython",
    "version": 3
   },
   "file_extension": ".py",
   "mimetype": "text/x-python",
   "name": "python",
   "nbconvert_exporter": "python",
   "pygments_lexer": "ipython3",
   "version": "3.9.7"
  },
  "orig_nbformat": 4,
  "vscode": {
   "interpreter": {
    "hash": "65e6b8587b9ac5bf6d587420d1428ad255c23b0a4a21d53e4dbafffee8377e0c"
   }
  }
 },
 "nbformat": 4,
 "nbformat_minor": 2
}
